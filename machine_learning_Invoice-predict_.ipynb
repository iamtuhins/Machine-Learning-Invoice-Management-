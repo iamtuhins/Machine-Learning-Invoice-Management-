{
 "cells": [
  {
   "cell_type": "code",
   "execution_count": 1,
   "metadata": {},
   "outputs": [],
   "source": [
    "import pandas as pd\n",
    "import numpy as np\n",
    "from sklearn.feature_selection import VarianceThreshold\n",
    "import  matplotlib.pyplot as plt\n",
    "import seaborn as sns\n",
    "from sklearn.model_selection import train_test_split\n",
    "from sklearn.preprocessing import LabelEncoder\n",
    "import warnings\n",
    "warnings.filterwarnings(\"ignore\")"
   ]
  },
  {
   "cell_type": "code",
   "execution_count": 2,
   "metadata": {},
   "outputs": [],
   "source": [
    "df=pd.read_csv(\"H2HBABBA1504.csv\")"
   ]
  },
  {
   "cell_type": "code",
   "execution_count": 3,
   "metadata": {},
   "outputs": [
    {
     "data": {
      "text/html": [
       "<div>\n",
       "<style scoped>\n",
       "    .dataframe tbody tr th:only-of-type {\n",
       "        vertical-align: middle;\n",
       "    }\n",
       "\n",
       "    .dataframe tbody tr th {\n",
       "        vertical-align: top;\n",
       "    }\n",
       "\n",
       "    .dataframe thead th {\n",
       "        text-align: right;\n",
       "    }\n",
       "</style>\n",
       "<table border=\"1\" class=\"dataframe\">\n",
       "  <thead>\n",
       "    <tr style=\"text-align: right;\">\n",
       "      <th></th>\n",
       "      <th>business_code</th>\n",
       "      <th>cust_number</th>\n",
       "      <th>name_customer</th>\n",
       "      <th>clear_date</th>\n",
       "      <th>buisness_year</th>\n",
       "      <th>doc_id</th>\n",
       "      <th>posting_date</th>\n",
       "      <th>document_create_date</th>\n",
       "      <th>document_create_date.1</th>\n",
       "      <th>due_in_date</th>\n",
       "      <th>invoice_currency</th>\n",
       "      <th>document type</th>\n",
       "      <th>posting_id</th>\n",
       "      <th>area_business</th>\n",
       "      <th>total_open_amount</th>\n",
       "      <th>baseline_create_date</th>\n",
       "      <th>cust_payment_terms</th>\n",
       "      <th>invoice_id</th>\n",
       "      <th>isOpen</th>\n",
       "    </tr>\n",
       "  </thead>\n",
       "  <tbody>\n",
       "    <tr>\n",
       "      <th>0</th>\n",
       "      <td>U001</td>\n",
       "      <td>200689451</td>\n",
       "      <td>PORK foundation</td>\n",
       "      <td>24-09-19 0:00</td>\n",
       "      <td>2019</td>\n",
       "      <td>1929848942</td>\n",
       "      <td>09-09-19</td>\n",
       "      <td>20190908</td>\n",
       "      <td>20190909</td>\n",
       "      <td>20190924</td>\n",
       "      <td>USD</td>\n",
       "      <td>RV</td>\n",
       "      <td>1</td>\n",
       "      <td>NaN</td>\n",
       "      <td>144839.95</td>\n",
       "      <td>20190909</td>\n",
       "      <td>NAA8</td>\n",
       "      <td>1.929849e+09</td>\n",
       "      <td>0</td>\n",
       "    </tr>\n",
       "    <tr>\n",
       "      <th>1</th>\n",
       "      <td>U001</td>\n",
       "      <td>200726979</td>\n",
       "      <td>BJ'S  corporation</td>\n",
       "      <td>NaN</td>\n",
       "      <td>2020</td>\n",
       "      <td>1930813533</td>\n",
       "      <td>22-04-20</td>\n",
       "      <td>20200422</td>\n",
       "      <td>20200422</td>\n",
       "      <td>20200507</td>\n",
       "      <td>USD</td>\n",
       "      <td>RV</td>\n",
       "      <td>1</td>\n",
       "      <td>NaN</td>\n",
       "      <td>132.72</td>\n",
       "      <td>20200422</td>\n",
       "      <td>NAA8</td>\n",
       "      <td>1.930814e+09</td>\n",
       "      <td>1</td>\n",
       "    </tr>\n",
       "    <tr>\n",
       "      <th>2</th>\n",
       "      <td>U001</td>\n",
       "      <td>200769623</td>\n",
       "      <td>WAL-MAR llc</td>\n",
       "      <td>28-06-19 0:00</td>\n",
       "      <td>2019</td>\n",
       "      <td>1929509741</td>\n",
       "      <td>18-06-19</td>\n",
       "      <td>20190618</td>\n",
       "      <td>20190618</td>\n",
       "      <td>20190703</td>\n",
       "      <td>USD</td>\n",
       "      <td>RV</td>\n",
       "      <td>1</td>\n",
       "      <td>NaN</td>\n",
       "      <td>1425.56</td>\n",
       "      <td>20190618</td>\n",
       "      <td>NAH4</td>\n",
       "      <td>1.929510e+09</td>\n",
       "      <td>0</td>\n",
       "    </tr>\n",
       "    <tr>\n",
       "      <th>3</th>\n",
       "      <td>U001</td>\n",
       "      <td>200769623</td>\n",
       "      <td>WAL-MAR llc</td>\n",
       "      <td>29-05-19 0:00</td>\n",
       "      <td>2019</td>\n",
       "      <td>1929301403</td>\n",
       "      <td>12-05-19</td>\n",
       "      <td>20190511</td>\n",
       "      <td>20190512</td>\n",
       "      <td>20190527</td>\n",
       "      <td>USD</td>\n",
       "      <td>RV</td>\n",
       "      <td>1</td>\n",
       "      <td>NaN</td>\n",
       "      <td>1569.62</td>\n",
       "      <td>20190512</td>\n",
       "      <td>NAH4</td>\n",
       "      <td>1.929301e+09</td>\n",
       "      <td>0</td>\n",
       "    </tr>\n",
       "    <tr>\n",
       "      <th>4</th>\n",
       "      <td>U001</td>\n",
       "      <td>200739534</td>\n",
       "      <td>OK systems</td>\n",
       "      <td>NaN</td>\n",
       "      <td>2020</td>\n",
       "      <td>1930782511</td>\n",
       "      <td>13-04-20</td>\n",
       "      <td>20200413</td>\n",
       "      <td>20200413</td>\n",
       "      <td>20200428</td>\n",
       "      <td>USD</td>\n",
       "      <td>RV</td>\n",
       "      <td>1</td>\n",
       "      <td>NaN</td>\n",
       "      <td>25051.77</td>\n",
       "      <td>20200413</td>\n",
       "      <td>NAA8</td>\n",
       "      <td>1.930783e+09</td>\n",
       "      <td>1</td>\n",
       "    </tr>\n",
       "    <tr>\n",
       "      <th>...</th>\n",
       "      <td>...</td>\n",
       "      <td>...</td>\n",
       "      <td>...</td>\n",
       "      <td>...</td>\n",
       "      <td>...</td>\n",
       "      <td>...</td>\n",
       "      <td>...</td>\n",
       "      <td>...</td>\n",
       "      <td>...</td>\n",
       "      <td>...</td>\n",
       "      <td>...</td>\n",
       "      <td>...</td>\n",
       "      <td>...</td>\n",
       "      <td>...</td>\n",
       "      <td>...</td>\n",
       "      <td>...</td>\n",
       "      <td>...</td>\n",
       "      <td>...</td>\n",
       "      <td>...</td>\n",
       "    </tr>\n",
       "    <tr>\n",
       "      <th>49995</th>\n",
       "      <td>U001</td>\n",
       "      <td>200707822</td>\n",
       "      <td>PUBLI llc</td>\n",
       "      <td>18-03-19 0:00</td>\n",
       "      <td>2019</td>\n",
       "      <td>1928885156</td>\n",
       "      <td>01-03-19</td>\n",
       "      <td>20190301</td>\n",
       "      <td>20190301</td>\n",
       "      <td>20190316</td>\n",
       "      <td>USD</td>\n",
       "      <td>RV</td>\n",
       "      <td>1</td>\n",
       "      <td>NaN</td>\n",
       "      <td>53476.11</td>\n",
       "      <td>20190301</td>\n",
       "      <td>NAA8</td>\n",
       "      <td>1.928885e+09</td>\n",
       "      <td>0</td>\n",
       "    </tr>\n",
       "    <tr>\n",
       "      <th>49996</th>\n",
       "      <td>U001</td>\n",
       "      <td>200744019</td>\n",
       "      <td>TARG associates</td>\n",
       "      <td>26-12-19 0:00</td>\n",
       "      <td>2019</td>\n",
       "      <td>1930265137</td>\n",
       "      <td>12-12-19</td>\n",
       "      <td>20191211</td>\n",
       "      <td>20191212</td>\n",
       "      <td>20191227</td>\n",
       "      <td>USD</td>\n",
       "      <td>RV</td>\n",
       "      <td>1</td>\n",
       "      <td>NaN</td>\n",
       "      <td>10110.18</td>\n",
       "      <td>20191212</td>\n",
       "      <td>NAA8</td>\n",
       "      <td>1.930265e+09</td>\n",
       "      <td>0</td>\n",
       "    </tr>\n",
       "    <tr>\n",
       "      <th>49997</th>\n",
       "      <td>U001</td>\n",
       "      <td>200707822</td>\n",
       "      <td>PUBLI foundation</td>\n",
       "      <td>05-07-19 0:00</td>\n",
       "      <td>2019</td>\n",
       "      <td>1929518502</td>\n",
       "      <td>19-06-19</td>\n",
       "      <td>20190620</td>\n",
       "      <td>20190619</td>\n",
       "      <td>20190704</td>\n",
       "      <td>USD</td>\n",
       "      <td>RV</td>\n",
       "      <td>1</td>\n",
       "      <td>NaN</td>\n",
       "      <td>22694.38</td>\n",
       "      <td>20190619</td>\n",
       "      <td>NAA8</td>\n",
       "      <td>1.929519e+09</td>\n",
       "      <td>0</td>\n",
       "    </tr>\n",
       "    <tr>\n",
       "      <th>49998</th>\n",
       "      <td>U001</td>\n",
       "      <td>200707822</td>\n",
       "      <td>PUBLI systems</td>\n",
       "      <td>NaN</td>\n",
       "      <td>2020</td>\n",
       "      <td>1930779612</td>\n",
       "      <td>12-04-20</td>\n",
       "      <td>20200412</td>\n",
       "      <td>20200412</td>\n",
       "      <td>20200427</td>\n",
       "      <td>USD</td>\n",
       "      <td>RV</td>\n",
       "      <td>1</td>\n",
       "      <td>NaN</td>\n",
       "      <td>53363.87</td>\n",
       "      <td>20200412</td>\n",
       "      <td>NAA8</td>\n",
       "      <td>1.930780e+09</td>\n",
       "      <td>1</td>\n",
       "    </tr>\n",
       "    <tr>\n",
       "      <th>49999</th>\n",
       "      <td>U001</td>\n",
       "      <td>200739534</td>\n",
       "      <td>OK systems</td>\n",
       "      <td>21-02-19 0:00</td>\n",
       "      <td>2019</td>\n",
       "      <td>1928741753</td>\n",
       "      <td>05-02-19</td>\n",
       "      <td>20190205</td>\n",
       "      <td>20190205</td>\n",
       "      <td>20190220</td>\n",
       "      <td>USD</td>\n",
       "      <td>RV</td>\n",
       "      <td>1</td>\n",
       "      <td>NaN</td>\n",
       "      <td>90592.19</td>\n",
       "      <td>20190205</td>\n",
       "      <td>NAA8</td>\n",
       "      <td>1.928742e+09</td>\n",
       "      <td>0</td>\n",
       "    </tr>\n",
       "  </tbody>\n",
       "</table>\n",
       "<p>50000 rows × 19 columns</p>\n",
       "</div>"
      ],
      "text/plain": [
       "      business_code cust_number      name_customer     clear_date  \\\n",
       "0              U001   200689451    PORK foundation  24-09-19 0:00   \n",
       "1              U001   200726979  BJ'S  corporation            NaN   \n",
       "2              U001   200769623        WAL-MAR llc  28-06-19 0:00   \n",
       "3              U001   200769623        WAL-MAR llc  29-05-19 0:00   \n",
       "4              U001   200739534         OK systems            NaN   \n",
       "...             ...         ...                ...            ...   \n",
       "49995          U001   200707822          PUBLI llc  18-03-19 0:00   \n",
       "49996          U001   200744019    TARG associates  26-12-19 0:00   \n",
       "49997          U001   200707822   PUBLI foundation  05-07-19 0:00   \n",
       "49998          U001   200707822      PUBLI systems            NaN   \n",
       "49999          U001   200739534         OK systems  21-02-19 0:00   \n",
       "\n",
       "       buisness_year      doc_id posting_date  document_create_date  \\\n",
       "0               2019  1929848942     09-09-19              20190908   \n",
       "1               2020  1930813533     22-04-20              20200422   \n",
       "2               2019  1929509741     18-06-19              20190618   \n",
       "3               2019  1929301403     12-05-19              20190511   \n",
       "4               2020  1930782511     13-04-20              20200413   \n",
       "...              ...         ...          ...                   ...   \n",
       "49995           2019  1928885156     01-03-19              20190301   \n",
       "49996           2019  1930265137     12-12-19              20191211   \n",
       "49997           2019  1929518502     19-06-19              20190620   \n",
       "49998           2020  1930779612     12-04-20              20200412   \n",
       "49999           2019  1928741753     05-02-19              20190205   \n",
       "\n",
       "       document_create_date.1  due_in_date invoice_currency document type  \\\n",
       "0                    20190909     20190924              USD            RV   \n",
       "1                    20200422     20200507              USD            RV   \n",
       "2                    20190618     20190703              USD            RV   \n",
       "3                    20190512     20190527              USD            RV   \n",
       "4                    20200413     20200428              USD            RV   \n",
       "...                       ...          ...              ...           ...   \n",
       "49995                20190301     20190316              USD            RV   \n",
       "49996                20191212     20191227              USD            RV   \n",
       "49997                20190619     20190704              USD            RV   \n",
       "49998                20200412     20200427              USD            RV   \n",
       "49999                20190205     20190220              USD            RV   \n",
       "\n",
       "       posting_id  area_business  total_open_amount  baseline_create_date  \\\n",
       "0               1            NaN          144839.95              20190909   \n",
       "1               1            NaN             132.72              20200422   \n",
       "2               1            NaN            1425.56              20190618   \n",
       "3               1            NaN            1569.62              20190512   \n",
       "4               1            NaN           25051.77              20200413   \n",
       "...           ...            ...                ...                   ...   \n",
       "49995           1            NaN           53476.11              20190301   \n",
       "49996           1            NaN           10110.18              20191212   \n",
       "49997           1            NaN           22694.38              20190619   \n",
       "49998           1            NaN           53363.87              20200412   \n",
       "49999           1            NaN           90592.19              20190205   \n",
       "\n",
       "      cust_payment_terms    invoice_id  isOpen  \n",
       "0                   NAA8  1.929849e+09       0  \n",
       "1                   NAA8  1.930814e+09       1  \n",
       "2                   NAH4  1.929510e+09       0  \n",
       "3                   NAH4  1.929301e+09       0  \n",
       "4                   NAA8  1.930783e+09       1  \n",
       "...                  ...           ...     ...  \n",
       "49995               NAA8  1.928885e+09       0  \n",
       "49996               NAA8  1.930265e+09       0  \n",
       "49997               NAA8  1.929519e+09       0  \n",
       "49998               NAA8  1.930780e+09       1  \n",
       "49999               NAA8  1.928742e+09       0  \n",
       "\n",
       "[50000 rows x 19 columns]"
      ]
     },
     "execution_count": 3,
     "metadata": {},
     "output_type": "execute_result"
    }
   ],
   "source": [
    "df"
   ]
  },
  {
   "cell_type": "code",
   "execution_count": 4,
   "metadata": {},
   "outputs": [
    {
     "data": {
      "text/html": [
       "<div>\n",
       "<style scoped>\n",
       "    .dataframe tbody tr th:only-of-type {\n",
       "        vertical-align: middle;\n",
       "    }\n",
       "\n",
       "    .dataframe tbody tr th {\n",
       "        vertical-align: top;\n",
       "    }\n",
       "\n",
       "    .dataframe thead th {\n",
       "        text-align: right;\n",
       "    }\n",
       "</style>\n",
       "<table border=\"1\" class=\"dataframe\">\n",
       "  <thead>\n",
       "    <tr style=\"text-align: right;\">\n",
       "      <th></th>\n",
       "      <th>business_code</th>\n",
       "      <th>cust_number</th>\n",
       "      <th>name_customer</th>\n",
       "      <th>clear_date</th>\n",
       "      <th>buisness_year</th>\n",
       "      <th>doc_id</th>\n",
       "      <th>posting_date</th>\n",
       "      <th>document_create_date</th>\n",
       "      <th>document_create_date.1</th>\n",
       "      <th>due_in_date</th>\n",
       "      <th>invoice_currency</th>\n",
       "      <th>document type</th>\n",
       "      <th>posting_id</th>\n",
       "      <th>area_business</th>\n",
       "      <th>total_open_amount</th>\n",
       "      <th>baseline_create_date</th>\n",
       "      <th>cust_payment_terms</th>\n",
       "      <th>invoice_id</th>\n",
       "      <th>isOpen</th>\n",
       "    </tr>\n",
       "  </thead>\n",
       "  <tbody>\n",
       "    <tr>\n",
       "      <th>0</th>\n",
       "      <td>U001</td>\n",
       "      <td>200689451</td>\n",
       "      <td>PORK foundation</td>\n",
       "      <td>24-09-19 0:00</td>\n",
       "      <td>2019</td>\n",
       "      <td>1929848942</td>\n",
       "      <td>09-09-19</td>\n",
       "      <td>20190908</td>\n",
       "      <td>20190909</td>\n",
       "      <td>20190924</td>\n",
       "      <td>USD</td>\n",
       "      <td>RV</td>\n",
       "      <td>1</td>\n",
       "      <td>NaN</td>\n",
       "      <td>144839.95</td>\n",
       "      <td>20190909</td>\n",
       "      <td>NAA8</td>\n",
       "      <td>1.929849e+09</td>\n",
       "      <td>0</td>\n",
       "    </tr>\n",
       "    <tr>\n",
       "      <th>2</th>\n",
       "      <td>U001</td>\n",
       "      <td>200769623</td>\n",
       "      <td>WAL-MAR llc</td>\n",
       "      <td>28-06-19 0:00</td>\n",
       "      <td>2019</td>\n",
       "      <td>1929509741</td>\n",
       "      <td>18-06-19</td>\n",
       "      <td>20190618</td>\n",
       "      <td>20190618</td>\n",
       "      <td>20190703</td>\n",
       "      <td>USD</td>\n",
       "      <td>RV</td>\n",
       "      <td>1</td>\n",
       "      <td>NaN</td>\n",
       "      <td>1425.56</td>\n",
       "      <td>20190618</td>\n",
       "      <td>NAH4</td>\n",
       "      <td>1.929510e+09</td>\n",
       "      <td>0</td>\n",
       "    </tr>\n",
       "    <tr>\n",
       "      <th>3</th>\n",
       "      <td>U001</td>\n",
       "      <td>200769623</td>\n",
       "      <td>WAL-MAR llc</td>\n",
       "      <td>29-05-19 0:00</td>\n",
       "      <td>2019</td>\n",
       "      <td>1929301403</td>\n",
       "      <td>12-05-19</td>\n",
       "      <td>20190511</td>\n",
       "      <td>20190512</td>\n",
       "      <td>20190527</td>\n",
       "      <td>USD</td>\n",
       "      <td>RV</td>\n",
       "      <td>1</td>\n",
       "      <td>NaN</td>\n",
       "      <td>1569.62</td>\n",
       "      <td>20190512</td>\n",
       "      <td>NAH4</td>\n",
       "      <td>1.929301e+09</td>\n",
       "      <td>0</td>\n",
       "    </tr>\n",
       "    <tr>\n",
       "      <th>5</th>\n",
       "      <td>CA02</td>\n",
       "      <td>140104409</td>\n",
       "      <td>LOB systems</td>\n",
       "      <td>24-01-20 0:00</td>\n",
       "      <td>2020</td>\n",
       "      <td>2960605300</td>\n",
       "      <td>03-01-20</td>\n",
       "      <td>20200103</td>\n",
       "      <td>20200103</td>\n",
       "      <td>20200120</td>\n",
       "      <td>CAD</td>\n",
       "      <td>RV</td>\n",
       "      <td>1</td>\n",
       "      <td>NaN</td>\n",
       "      <td>4536.00</td>\n",
       "      <td>20200110</td>\n",
       "      <td>CA10</td>\n",
       "      <td>2.960605e+09</td>\n",
       "      <td>0</td>\n",
       "    </tr>\n",
       "    <tr>\n",
       "      <th>6</th>\n",
       "      <td>U001</td>\n",
       "      <td>200744019</td>\n",
       "      <td>TARG foundation</td>\n",
       "      <td>29-01-20 0:00</td>\n",
       "      <td>2020</td>\n",
       "      <td>1930392250</td>\n",
       "      <td>13-01-20</td>\n",
       "      <td>20200113</td>\n",
       "      <td>20200113</td>\n",
       "      <td>20200128</td>\n",
       "      <td>USD</td>\n",
       "      <td>RV</td>\n",
       "      <td>1</td>\n",
       "      <td>NaN</td>\n",
       "      <td>15540.18</td>\n",
       "      <td>20200113</td>\n",
       "      <td>NAA8</td>\n",
       "      <td>1.930392e+09</td>\n",
       "      <td>0</td>\n",
       "    </tr>\n",
       "  </tbody>\n",
       "</table>\n",
       "</div>"
      ],
      "text/plain": [
       "  business_code cust_number    name_customer     clear_date  buisness_year  \\\n",
       "0          U001   200689451  PORK foundation  24-09-19 0:00           2019   \n",
       "2          U001   200769623      WAL-MAR llc  28-06-19 0:00           2019   \n",
       "3          U001   200769623      WAL-MAR llc  29-05-19 0:00           2019   \n",
       "5          CA02   140104409      LOB systems  24-01-20 0:00           2020   \n",
       "6          U001   200744019  TARG foundation  29-01-20 0:00           2020   \n",
       "\n",
       "       doc_id posting_date  document_create_date  document_create_date.1  \\\n",
       "0  1929848942     09-09-19              20190908                20190909   \n",
       "2  1929509741     18-06-19              20190618                20190618   \n",
       "3  1929301403     12-05-19              20190511                20190512   \n",
       "5  2960605300     03-01-20              20200103                20200103   \n",
       "6  1930392250     13-01-20              20200113                20200113   \n",
       "\n",
       "   due_in_date invoice_currency document type  posting_id  area_business  \\\n",
       "0     20190924              USD            RV           1            NaN   \n",
       "2     20190703              USD            RV           1            NaN   \n",
       "3     20190527              USD            RV           1            NaN   \n",
       "5     20200120              CAD            RV           1            NaN   \n",
       "6     20200128              USD            RV           1            NaN   \n",
       "\n",
       "   total_open_amount  baseline_create_date cust_payment_terms    invoice_id  \\\n",
       "0          144839.95              20190909               NAA8  1.929849e+09   \n",
       "2            1425.56              20190618               NAH4  1.929510e+09   \n",
       "3            1569.62              20190512               NAH4  1.929301e+09   \n",
       "5            4536.00              20200110               CA10  2.960605e+09   \n",
       "6           15540.18              20200113               NAA8  1.930392e+09   \n",
       "\n",
       "   isOpen  \n",
       "0       0  \n",
       "2       0  \n",
       "3       0  \n",
       "5       0  \n",
       "6       0  "
      ]
     },
     "execution_count": 4,
     "metadata": {},
     "output_type": "execute_result"
    }
   ],
   "source": [
    " ##spliting data for na and notna values in diffrent data set\n",
    "test= df[df[\"clear_date\"].isna()];\n",
    "train=df[df[\"clear_date\"].notnull()]\n",
    "train.head()"
   ]
  },
  {
   "cell_type": "code",
   "execution_count": 5,
   "metadata": {},
   "outputs": [
    {
     "data": {
      "text/plain": [
       "(40000, 19)"
      ]
     },
     "execution_count": 5,
     "metadata": {},
     "output_type": "execute_result"
    }
   ],
   "source": [
    "train.shape"
   ]
  },
  {
   "cell_type": "markdown",
   "metadata": {},
   "source": [
    "# Milestone 1 "
   ]
  },
  {
   "cell_type": "code",
   "execution_count": 6,
   "metadata": {},
   "outputs": [
    {
     "data": {
      "text/plain": [
       "business_code                 0\n",
       "cust_number                   0\n",
       "name_customer                 0\n",
       "clear_date                    0\n",
       "buisness_year                 0\n",
       "doc_id                        0\n",
       "posting_date                  0\n",
       "document_create_date          0\n",
       "document_create_date.1        0\n",
       "due_in_date                   0\n",
       "invoice_currency              0\n",
       "document type                 0\n",
       "posting_id                    0\n",
       "area_business             40000\n",
       "total_open_amount             0\n",
       "baseline_create_date          0\n",
       "cust_payment_terms            0\n",
       "invoice_id                    4\n",
       "isOpen                        0\n",
       "dtype: int64"
      ]
     },
     "execution_count": 6,
     "metadata": {},
     "output_type": "execute_result"
    }
   ],
   "source": [
    "train.isna().sum()"
   ]
  },
  {
   "cell_type": "code",
   "execution_count": 7,
   "metadata": {},
   "outputs": [],
   "source": [
    " ##droping \"area_business\" because it has all null values which is not valueable and \"Document_creat1\" for duplicate exist and\n",
    " ## \"posting_id\" has same values with zero variance \n",
    "train=train.drop(labels=\"area_business\",axis=1)\n",
    "train=train.drop(labels=\"document_create_date.1\",axis=1)\n",
    "train=train.drop(labels=\"posting_id\",axis=1)"
   ]
  },
  {
   "cell_type": "code",
   "execution_count": 8,
   "metadata": {},
   "outputs": [
    {
     "data": {
      "text/plain": [
       "885"
      ]
     },
     "execution_count": 8,
     "metadata": {},
     "output_type": "execute_result"
    }
   ],
   "source": [
    "train.duplicated().sum()"
   ]
  },
  {
   "cell_type": "markdown",
   "metadata": {},
   "source": [
    "# Basic pre-processing"
   ]
  },
  {
   "cell_type": "code",
   "execution_count": 9,
   "metadata": {},
   "outputs": [],
   "source": [
    "##Droping dulicates \n",
    "train=train.drop_duplicates(keep=\"first\")"
   ]
  },
  {
   "cell_type": "code",
   "execution_count": 10,
   "metadata": {},
   "outputs": [
    {
     "data": {
      "text/plain": [
       "business_code           0\n",
       "cust_number             0\n",
       "name_customer           0\n",
       "clear_date              0\n",
       "buisness_year           0\n",
       "doc_id                  0\n",
       "posting_date            0\n",
       "document_create_date    0\n",
       "due_in_date             0\n",
       "invoice_currency        0\n",
       "document type           0\n",
       "total_open_amount       0\n",
       "baseline_create_date    0\n",
       "cust_payment_terms      0\n",
       "invoice_id              4\n",
       "isOpen                  0\n",
       "dtype: int64"
      ]
     },
     "execution_count": 10,
     "metadata": {},
     "output_type": "execute_result"
    }
   ],
   "source": [
    "train.isna().sum()"
   ]
  },
  {
   "cell_type": "code",
   "execution_count": 11,
   "metadata": {},
   "outputs": [],
   "source": [
    " ##Deleteing null values of \"invoice_id\" (just 4 ) \n",
    "train=train[train.invoice_id.isnull()==False]"
   ]
  },
  {
   "cell_type": "code",
   "execution_count": 12,
   "metadata": {},
   "outputs": [
    {
     "data": {
      "text/plain": [
       "business_code           0\n",
       "cust_number             0\n",
       "name_customer           0\n",
       "clear_date              0\n",
       "buisness_year           0\n",
       "doc_id                  0\n",
       "posting_date            0\n",
       "document_create_date    0\n",
       "due_in_date             0\n",
       "invoice_currency        0\n",
       "document type           0\n",
       "total_open_amount       0\n",
       "baseline_create_date    0\n",
       "cust_payment_terms      0\n",
       "invoice_id              0\n",
       "isOpen                  0\n",
       "dtype: int64"
      ]
     },
     "execution_count": 12,
     "metadata": {},
     "output_type": "execute_result"
    }
   ],
   "source": [
    "train.isna().sum()"
   ]
  },
  {
   "cell_type": "code",
   "execution_count": 13,
   "metadata": {},
   "outputs": [],
   "source": [
    " ##Changing \"clear_date\" and \"due_in_date\" to datetime for making \"target var\"\n",
    "train[\"clear_date\"]= train[\"clear_date\"].apply(pd.to_datetime)\n",
    "train[\"due_in_date\"] = pd.to_datetime(train[\"due_in_date\"], format='%Y%m%d')"
   ]
  },
  {
   "cell_type": "code",
   "execution_count": 14,
   "metadata": {},
   "outputs": [
    {
     "name": "stdout",
     "output_type": "stream",
     "text": [
      "<class 'pandas.core.frame.DataFrame'>\n",
      "Int64Index: 39111 entries, 0 to 49999\n",
      "Data columns (total 16 columns):\n",
      " #   Column                Non-Null Count  Dtype         \n",
      "---  ------                --------------  -----         \n",
      " 0   business_code         39111 non-null  object        \n",
      " 1   cust_number           39111 non-null  object        \n",
      " 2   name_customer         39111 non-null  object        \n",
      " 3   clear_date            39111 non-null  datetime64[ns]\n",
      " 4   buisness_year         39111 non-null  int64         \n",
      " 5   doc_id                39111 non-null  int64         \n",
      " 6   posting_date          39111 non-null  object        \n",
      " 7   document_create_date  39111 non-null  int64         \n",
      " 8   due_in_date           39111 non-null  datetime64[ns]\n",
      " 9   invoice_currency      39111 non-null  object        \n",
      " 10  document type         39111 non-null  object        \n",
      " 11  total_open_amount     39111 non-null  float64       \n",
      " 12  baseline_create_date  39111 non-null  int64         \n",
      " 13  cust_payment_terms    39111 non-null  object        \n",
      " 14  invoice_id            39111 non-null  float64       \n",
      " 15  isOpen                39111 non-null  int64         \n",
      "dtypes: datetime64[ns](2), float64(2), int64(5), object(7)\n",
      "memory usage: 5.1+ MB\n"
     ]
    }
   ],
   "source": [
    "train.info()"
   ]
  },
  {
   "cell_type": "markdown",
   "metadata": {},
   "source": [
    "# Target value creating"
   ]
  },
  {
   "cell_type": "code",
   "execution_count": 15,
   "metadata": {},
   "outputs": [],
   "source": [
    " ##Creating \"target var\" \n",
    "train[\"delay\"]=(train[\"clear_date\"]-train[\"due_in_date\"])"
   ]
  },
  {
   "cell_type": "code",
   "execution_count": 16,
   "metadata": {},
   "outputs": [
    {
     "name": "stdout",
     "output_type": "stream",
     "text": [
      "<class 'pandas.core.frame.DataFrame'>\n",
      "Int64Index: 39111 entries, 0 to 49999\n",
      "Data columns (total 17 columns):\n",
      " #   Column                Non-Null Count  Dtype          \n",
      "---  ------                --------------  -----          \n",
      " 0   business_code         39111 non-null  object         \n",
      " 1   cust_number           39111 non-null  object         \n",
      " 2   name_customer         39111 non-null  object         \n",
      " 3   clear_date            39111 non-null  datetime64[ns] \n",
      " 4   buisness_year         39111 non-null  int64          \n",
      " 5   doc_id                39111 non-null  int64          \n",
      " 6   posting_date          39111 non-null  object         \n",
      " 7   document_create_date  39111 non-null  int64          \n",
      " 8   due_in_date           39111 non-null  datetime64[ns] \n",
      " 9   invoice_currency      39111 non-null  object         \n",
      " 10  document type         39111 non-null  object         \n",
      " 11  total_open_amount     39111 non-null  float64        \n",
      " 12  baseline_create_date  39111 non-null  int64          \n",
      " 13  cust_payment_terms    39111 non-null  object         \n",
      " 14  invoice_id            39111 non-null  float64        \n",
      " 15  isOpen                39111 non-null  int64          \n",
      " 16  delay                 39111 non-null  timedelta64[ns]\n",
      "dtypes: datetime64[ns](2), float64(2), int64(5), object(7), timedelta64[ns](1)\n",
      "memory usage: 5.4+ MB\n"
     ]
    }
   ],
   "source": [
    "train.info()"
   ]
  },
  {
   "cell_type": "code",
   "execution_count": 17,
   "metadata": {},
   "outputs": [
    {
     "name": "stdout",
     "output_type": "stream",
     "text": [
      "<class 'pandas.core.frame.DataFrame'>\n",
      "Int64Index: 39111 entries, 0 to 49999\n",
      "Data columns (total 17 columns):\n",
      " #   Column                Non-Null Count  Dtype         \n",
      "---  ------                --------------  -----         \n",
      " 0   business_code         39111 non-null  object        \n",
      " 1   cust_number           39111 non-null  object        \n",
      " 2   name_customer         39111 non-null  object        \n",
      " 3   clear_date            39111 non-null  datetime64[ns]\n",
      " 4   buisness_year         39111 non-null  int64         \n",
      " 5   doc_id                39111 non-null  int64         \n",
      " 6   posting_date          39111 non-null  object        \n",
      " 7   document_create_date  39111 non-null  int64         \n",
      " 8   due_in_date           39111 non-null  datetime64[ns]\n",
      " 9   invoice_currency      39111 non-null  object        \n",
      " 10  document type         39111 non-null  object        \n",
      " 11  total_open_amount     39111 non-null  float64       \n",
      " 12  baseline_create_date  39111 non-null  int64         \n",
      " 13  cust_payment_terms    39111 non-null  object        \n",
      " 14  invoice_id            39111 non-null  float64       \n",
      " 15  isOpen                39111 non-null  int64         \n",
      " 16  delay                 39111 non-null  int64         \n",
      "dtypes: datetime64[ns](2), float64(2), int64(6), object(7)\n",
      "memory usage: 5.4+ MB\n"
     ]
    }
   ],
   "source": [
    "train[\"delay\"]=train['delay'].dt.days\n",
    "train.info()"
   ]
  },
  {
   "cell_type": "code",
   "execution_count": 18,
   "metadata": {},
   "outputs": [],
   "source": [
    "  ##Delete document-type and  isOpen because all the values has zero variance (constant)\n",
    "train=train.drop(labels=\"document type\",axis=1)\n",
    "train=train.drop(labels=\"isOpen\",axis=1)"
   ]
  },
  {
   "cell_type": "code",
   "execution_count": 19,
   "metadata": {},
   "outputs": [],
   "source": [
    " ##sorting data by \"Posting\" time  \n",
    "train=train.sort_values(by=['posting_date'])"
   ]
  },
  {
   "cell_type": "code",
   "execution_count": 20,
   "metadata": {},
   "outputs": [],
   "source": [
    " ##X-contains data without delay values\n",
    " ##Y-contains data of only delay values\n",
    "X = train.drop(\"delay\",axis=1)\n",
    "y=train['delay']"
   ]
  },
  {
   "cell_type": "markdown",
   "metadata": {},
   "source": [
    "# Spliting train and validation dataset"
   ]
  },
  {
   "cell_type": "code",
   "execution_count": 21,
   "metadata": {},
   "outputs": [],
   "source": [
    " ##spliting the data in \"train\" & \"validation\" with 70%-30% for 30%data to fed \"y\" sections.\n",
    "X_train,X_val,y_train,y_val = train_test_split(X,y,test_size=0.3,random_state=0 , shuffle = False)\n"
   ]
  },
  {
   "cell_type": "markdown",
   "metadata": {},
   "source": [
    "# Exploratory data analysis(EDA)"
   ]
  },
  {
   "cell_type": "code",
   "execution_count": 22,
   "metadata": {},
   "outputs": [
    {
     "data": {
      "text/plain": [
       "<AxesSubplot:xlabel='delay', ylabel='Density'>"
      ]
     },
     "execution_count": 22,
     "metadata": {},
     "output_type": "execute_result"
    },
    {
     "data": {
      "image/png": "[encoded data removed]",
      "text/plain": [
       "<Figure size 432x288 with 1 Axes>"
      ]
     },
     "metadata": {
      "needs_background": "light"
     },
     "output_type": "display_data"
    }
   ],
   "source": [
    " ##This is pretty Symmentric that's mean alreay normalized\n",
    "sns.distplot(y_train)"
   ]
  },
  {
   "cell_type": "markdown",
   "metadata": {},
   "source": [
    "# Data visulization with ploting"
   ]
  },
  {
   "cell_type": "code",
   "execution_count": 23,
   "metadata": {},
   "outputs": [
    {
     "data": {
      "text/plain": [
       "<AxesSubplot:xlabel='delay', ylabel='total_open_amount'>"
      ]
     },
     "execution_count": 23,
     "metadata": {},
     "output_type": "execute_result"
    },
    {
     "data": {
      "image/png": "[encoded data removed]",
      "text/plain": [
       "<Figure size 432x288 with 1 Axes>"
      ]
     },
     "metadata": {
      "needs_background": "light"
     },
     "output_type": "display_data"
    }
   ],
   "source": [
    "  ##No direct relationship \n",
    "sns.scatterplot(data=X_train.merge(y_train,on = X_train.index), x=\"delay\", y=\"total_open_amount\")\n"
   ]
  },
  {
   "cell_type": "code",
   "execution_count": 24,
   "metadata": {},
   "outputs": [],
   "source": [
    "temp=X_train.merge(y_train,on = X_train.index)"
   ]
  },
  {
   "cell_type": "code",
   "execution_count": 25,
   "metadata": {},
   "outputs": [
    {
     "data": {
      "text/plain": [
       "<AxesSubplot:xlabel='invoice_currency', ylabel='delay'>"
      ]
     },
     "execution_count": 25,
     "metadata": {},
     "output_type": "execute_result"
    },
    {
     "data": {
      "image/png": "[encoded data removed]",
      "text/plain": [
       "<Figure size 432x288 with 1 Axes>"
      ]
     },
     "metadata": {
      "needs_background": "light"
     },
     "output_type": "display_data"
    }
   ],
   "source": [
    "sns.barplot(x=\"invoice_currency\", y=\"delay\",data=temp,linewidth=1.5, edgecolor=\"blue\")"
   ]
  },
  {
   "cell_type": "code",
   "execution_count": 26,
   "metadata": {},
   "outputs": [],
   "source": [
    " ##form above figure we can find out that USD currency has more delay"
   ]
  },
  {
   "cell_type": "code",
   "execution_count": 27,
   "metadata": {},
   "outputs": [
    {
     "data": {
      "text/plain": [
       "<AxesSubplot:xlabel='business_code', ylabel='delay'>"
      ]
     },
     "execution_count": 27,
     "metadata": {},
     "output_type": "execute_result"
    },
    {
     "data": {
      "image/png": "[encoded data removed]",
      "text/plain": [
       "<Figure size 432x288 with 1 Axes>"
      ]
     },
     "metadata": {
      "needs_background": "light"
     },
     "output_type": "display_data"
    }
   ],
   "source": [
    "sns.barplot (data=temp, x=\"business_code\", y=\"delay\")"
   ]
  },
  {
   "cell_type": "code",
   "execution_count": 28,
   "metadata": {},
   "outputs": [],
   "source": [
    "##from above figure we abel to know that most delays are from U007,U005,U001 business_code holders"
   ]
  },
  {
   "cell_type": "code",
   "execution_count": 29,
   "metadata": {
    "scrolled": false
   },
   "outputs": [
    {
     "name": "stdout",
     "output_type": "stream",
     "text": [
      "<class 'pandas.core.frame.DataFrame'>\n",
      "Int64Index: 27377 entries, 2106 to 16923\n",
      "Data columns (total 14 columns):\n",
      " #   Column                Non-Null Count  Dtype         \n",
      "---  ------                --------------  -----         \n",
      " 0   business_code         27377 non-null  object        \n",
      " 1   cust_number           27377 non-null  object        \n",
      " 2   name_customer         27377 non-null  object        \n",
      " 3   clear_date            27377 non-null  datetime64[ns]\n",
      " 4   buisness_year         27377 non-null  int64         \n",
      " 5   doc_id                27377 non-null  int64         \n",
      " 6   posting_date          27377 non-null  object        \n",
      " 7   document_create_date  27377 non-null  int64         \n",
      " 8   due_in_date           27377 non-null  datetime64[ns]\n",
      " 9   invoice_currency      27377 non-null  object        \n",
      " 10  total_open_amount     27377 non-null  float64       \n",
      " 11  baseline_create_date  27377 non-null  int64         \n",
      " 12  cust_payment_terms    27377 non-null  object        \n",
      " 13  invoice_id            27377 non-null  float64       \n",
      "dtypes: datetime64[ns](2), float64(2), int64(4), object(6)\n",
      "memory usage: 3.1+ MB\n"
     ]
    }
   ],
   "source": [
    "X_train.info()"
   ]
  },
  {
   "cell_type": "markdown",
   "metadata": {},
   "source": [
    "# Milestone 2"
   ]
  },
  {
   "cell_type": "markdown",
   "metadata": {},
   "source": [
    "# Feature Engineering"
   ]
  },
  {
   "cell_type": "code",
   "execution_count": 30,
   "metadata": {},
   "outputs": [],
   "source": [
    " ##making LabelEncoding object\n",
    "invoice_enc=LabelEncoder()"
   ]
  },
  {
   "cell_type": "code",
   "execution_count": 31,
   "metadata": {},
   "outputs": [
    {
     "data": {
      "text/plain": [
       "LabelEncoder()"
      ]
     },
     "execution_count": 31,
     "metadata": {},
     "output_type": "execute_result"
    }
   ],
   "source": [
    " ##fit label obj in train set and transform\n",
    "invoice_enc.fit(X_train['invoice_currency'])"
   ]
  },
  {
   "cell_type": "code",
   "execution_count": 32,
   "metadata": {},
   "outputs": [],
   "source": [
    "X_train['invoice_enc']=invoice_enc.transform(X_train[\"invoice_currency\"])"
   ]
  },
  {
   "cell_type": "code",
   "execution_count": 33,
   "metadata": {},
   "outputs": [],
   "source": [
    "  ##fit label encodin in validation set and transform\n",
    "X_val['invoice_enc']=invoice_enc.transform(X_val[\"invoice_currency\"])"
   ]
  },
  {
   "cell_type": "code",
   "execution_count": 34,
   "metadata": {},
   "outputs": [],
   "source": [
    "  ##drop \"invoice_currency\" column from both set\n",
    "X_train.drop(['invoice_currency'], axis =1,inplace=True)\n",
    "X_val.drop(['invoice_currency'], axis =1,inplace=True)"
   ]
  },
  {
   "cell_type": "code",
   "execution_count": 35,
   "metadata": {},
   "outputs": [],
   "source": [
    "business_enc=LabelEncoder()"
   ]
  },
  {
   "cell_type": "code",
   "execution_count": 36,
   "metadata": {},
   "outputs": [],
   "source": [
    "  ##fitting and transforming label encoding on \"business_code\" column training set\n",
    "business_enc.fit(X_train['business_code'])\n",
    "X_train['business_enc']=business_enc.transform(X_train[\"business_code\"])"
   ]
  },
  {
   "cell_type": "code",
   "execution_count": 37,
   "metadata": {
    "scrolled": true
   },
   "outputs": [
    {
     "data": {
      "text/html": [
       "<div>\n",
       "<style scoped>\n",
       "    .dataframe tbody tr th:only-of-type {\n",
       "        vertical-align: middle;\n",
       "    }\n",
       "\n",
       "    .dataframe tbody tr th {\n",
       "        vertical-align: top;\n",
       "    }\n",
       "\n",
       "    .dataframe thead th {\n",
       "        text-align: right;\n",
       "    }\n",
       "</style>\n",
       "<table border=\"1\" class=\"dataframe\">\n",
       "  <thead>\n",
       "    <tr style=\"text-align: right;\">\n",
       "      <th></th>\n",
       "      <th>business_code</th>\n",
       "      <th>cust_number</th>\n",
       "      <th>name_customer</th>\n",
       "      <th>clear_date</th>\n",
       "      <th>buisness_year</th>\n",
       "      <th>doc_id</th>\n",
       "      <th>posting_date</th>\n",
       "      <th>document_create_date</th>\n",
       "      <th>due_in_date</th>\n",
       "      <th>total_open_amount</th>\n",
       "      <th>baseline_create_date</th>\n",
       "      <th>cust_payment_terms</th>\n",
       "      <th>invoice_id</th>\n",
       "      <th>invoice_enc</th>\n",
       "      <th>business_enc</th>\n",
       "    </tr>\n",
       "  </thead>\n",
       "  <tbody>\n",
       "    <tr>\n",
       "      <th>44833</th>\n",
       "      <td>U001</td>\n",
       "      <td>200769623</td>\n",
       "      <td>WAL-MAR in</td>\n",
       "      <td>2019-05-03</td>\n",
       "      <td>2019</td>\n",
       "      <td>1928842094</td>\n",
       "      <td>22-02-19</td>\n",
       "      <td>20190222</td>\n",
       "      <td>2019-03-09</td>\n",
       "      <td>78282.61</td>\n",
       "      <td>20190222</td>\n",
       "      <td>NAH4</td>\n",
       "      <td>1.928842e+09</td>\n",
       "      <td>1</td>\n",
       "      <td>1</td>\n",
       "    </tr>\n",
       "    <tr>\n",
       "      <th>106</th>\n",
       "      <td>U001</td>\n",
       "      <td>200794332</td>\n",
       "      <td>COST associates</td>\n",
       "      <td>2019-11-03</td>\n",
       "      <td>2019</td>\n",
       "      <td>1928829933</td>\n",
       "      <td>22-02-19</td>\n",
       "      <td>20190220</td>\n",
       "      <td>2019-03-09</td>\n",
       "      <td>17286.51</td>\n",
       "      <td>20190222</td>\n",
       "      <td>NAAX</td>\n",
       "      <td>1.928830e+09</td>\n",
       "      <td>1</td>\n",
       "      <td>1</td>\n",
       "    </tr>\n",
       "    <tr>\n",
       "      <th>8169</th>\n",
       "      <td>U001</td>\n",
       "      <td>200769623</td>\n",
       "      <td>WAL-MAR trust</td>\n",
       "      <td>2019-05-03</td>\n",
       "      <td>2019</td>\n",
       "      <td>1928841983</td>\n",
       "      <td>22-02-19</td>\n",
       "      <td>20190222</td>\n",
       "      <td>2019-03-09</td>\n",
       "      <td>56605.75</td>\n",
       "      <td>20190222</td>\n",
       "      <td>NAH4</td>\n",
       "      <td>1.928842e+09</td>\n",
       "      <td>1</td>\n",
       "      <td>1</td>\n",
       "    </tr>\n",
       "    <tr>\n",
       "      <th>5634</th>\n",
       "      <td>U001</td>\n",
       "      <td>200759878</td>\n",
       "      <td>SA associates</td>\n",
       "      <td>2019-11-03</td>\n",
       "      <td>2019</td>\n",
       "      <td>1928830265</td>\n",
       "      <td>22-02-19</td>\n",
       "      <td>20190220</td>\n",
       "      <td>2019-03-09</td>\n",
       "      <td>34387.23</td>\n",
       "      <td>20190222</td>\n",
       "      <td>NAH4</td>\n",
       "      <td>1.928830e+09</td>\n",
       "      <td>1</td>\n",
       "      <td>1</td>\n",
       "    </tr>\n",
       "    <tr>\n",
       "      <th>42306</th>\n",
       "      <td>U001</td>\n",
       "      <td>200792283</td>\n",
       "      <td>SYSCO  corporation</td>\n",
       "      <td>2019-11-03</td>\n",
       "      <td>2019</td>\n",
       "      <td>1928838776</td>\n",
       "      <td>22-02-19</td>\n",
       "      <td>20190221</td>\n",
       "      <td>2019-03-09</td>\n",
       "      <td>32224.98</td>\n",
       "      <td>20190222</td>\n",
       "      <td>NAA8</td>\n",
       "      <td>1.928839e+09</td>\n",
       "      <td>1</td>\n",
       "      <td>1</td>\n",
       "    </tr>\n",
       "  </tbody>\n",
       "</table>\n",
       "</div>"
      ],
      "text/plain": [
       "      business_code cust_number       name_customer clear_date  buisness_year  \\\n",
       "44833          U001   200769623          WAL-MAR in 2019-05-03           2019   \n",
       "106            U001   200794332     COST associates 2019-11-03           2019   \n",
       "8169           U001   200769623       WAL-MAR trust 2019-05-03           2019   \n",
       "5634           U001   200759878       SA associates 2019-11-03           2019   \n",
       "42306          U001   200792283  SYSCO  corporation 2019-11-03           2019   \n",
       "\n",
       "           doc_id posting_date  document_create_date due_in_date  \\\n",
       "44833  1928842094     22-02-19              20190222  2019-03-09   \n",
       "106    1928829933     22-02-19              20190220  2019-03-09   \n",
       "8169   1928841983     22-02-19              20190222  2019-03-09   \n",
       "5634   1928830265     22-02-19              20190220  2019-03-09   \n",
       "42306  1928838776     22-02-19              20190221  2019-03-09   \n",
       "\n",
       "       total_open_amount  baseline_create_date cust_payment_terms  \\\n",
       "44833           78282.61              20190222               NAH4   \n",
       "106             17286.51              20190222               NAAX   \n",
       "8169            56605.75              20190222               NAH4   \n",
       "5634            34387.23              20190222               NAH4   \n",
       "42306           32224.98              20190222               NAA8   \n",
       "\n",
       "         invoice_id  invoice_enc  business_enc  \n",
       "44833  1.928842e+09            1             1  \n",
       "106    1.928830e+09            1             1  \n",
       "8169   1.928842e+09            1             1  \n",
       "5634   1.928830e+09            1             1  \n",
       "42306  1.928839e+09            1             1  "
      ]
     },
     "execution_count": 37,
     "metadata": {},
     "output_type": "execute_result"
    }
   ],
   "source": [
    "  ##fitting and transforming label encoding on \"business_code\" column for validation set \n",
    "X_val['business_enc']=business_enc.transform(X_val[\"business_code\"])\n",
    "X_val.head()"
   ]
  },
  {
   "cell_type": "code",
   "execution_count": null,
   "metadata": {},
   "outputs": [],
   "source": []
  },
  {
   "cell_type": "code",
   "execution_count": 38,
   "metadata": {},
   "outputs": [],
   "source": [
    "  ##droping the \"Business code\" after encoding \n",
    "X_train.drop(['business_code'], axis =1,inplace=True)\n",
    "X_val.drop(['business_code'], axis =1,inplace=True)"
   ]
  },
  {
   "cell_type": "code",
   "execution_count": 39,
   "metadata": {},
   "outputs": [
    {
     "data": {
      "text/html": [
       "<div>\n",
       "<style scoped>\n",
       "    .dataframe tbody tr th:only-of-type {\n",
       "        vertical-align: middle;\n",
       "    }\n",
       "\n",
       "    .dataframe tbody tr th {\n",
       "        vertical-align: top;\n",
       "    }\n",
       "\n",
       "    .dataframe thead th {\n",
       "        text-align: right;\n",
       "    }\n",
       "</style>\n",
       "<table border=\"1\" class=\"dataframe\">\n",
       "  <thead>\n",
       "    <tr style=\"text-align: right;\">\n",
       "      <th></th>\n",
       "      <th>cust_number</th>\n",
       "      <th>name_customer</th>\n",
       "      <th>clear_date</th>\n",
       "      <th>buisness_year</th>\n",
       "      <th>doc_id</th>\n",
       "      <th>posting_date</th>\n",
       "      <th>document_create_date</th>\n",
       "      <th>due_in_date</th>\n",
       "      <th>total_open_amount</th>\n",
       "      <th>baseline_create_date</th>\n",
       "      <th>cust_payment_terms</th>\n",
       "      <th>invoice_id</th>\n",
       "      <th>invoice_enc</th>\n",
       "      <th>business_enc</th>\n",
       "    </tr>\n",
       "  </thead>\n",
       "  <tbody>\n",
       "    <tr>\n",
       "      <th>44833</th>\n",
       "      <td>200769623</td>\n",
       "      <td>WAL-MAR in</td>\n",
       "      <td>2019-05-03</td>\n",
       "      <td>2019</td>\n",
       "      <td>1928842094</td>\n",
       "      <td>22-02-19</td>\n",
       "      <td>20190222</td>\n",
       "      <td>2019-03-09</td>\n",
       "      <td>78282.61</td>\n",
       "      <td>20190222</td>\n",
       "      <td>NAH4</td>\n",
       "      <td>1.928842e+09</td>\n",
       "      <td>1</td>\n",
       "      <td>1</td>\n",
       "    </tr>\n",
       "    <tr>\n",
       "      <th>106</th>\n",
       "      <td>200794332</td>\n",
       "      <td>COST associates</td>\n",
       "      <td>2019-11-03</td>\n",
       "      <td>2019</td>\n",
       "      <td>1928829933</td>\n",
       "      <td>22-02-19</td>\n",
       "      <td>20190220</td>\n",
       "      <td>2019-03-09</td>\n",
       "      <td>17286.51</td>\n",
       "      <td>20190222</td>\n",
       "      <td>NAAX</td>\n",
       "      <td>1.928830e+09</td>\n",
       "      <td>1</td>\n",
       "      <td>1</td>\n",
       "    </tr>\n",
       "    <tr>\n",
       "      <th>8169</th>\n",
       "      <td>200769623</td>\n",
       "      <td>WAL-MAR trust</td>\n",
       "      <td>2019-05-03</td>\n",
       "      <td>2019</td>\n",
       "      <td>1928841983</td>\n",
       "      <td>22-02-19</td>\n",
       "      <td>20190222</td>\n",
       "      <td>2019-03-09</td>\n",
       "      <td>56605.75</td>\n",
       "      <td>20190222</td>\n",
       "      <td>NAH4</td>\n",
       "      <td>1.928842e+09</td>\n",
       "      <td>1</td>\n",
       "      <td>1</td>\n",
       "    </tr>\n",
       "    <tr>\n",
       "      <th>5634</th>\n",
       "      <td>200759878</td>\n",
       "      <td>SA associates</td>\n",
       "      <td>2019-11-03</td>\n",
       "      <td>2019</td>\n",
       "      <td>1928830265</td>\n",
       "      <td>22-02-19</td>\n",
       "      <td>20190220</td>\n",
       "      <td>2019-03-09</td>\n",
       "      <td>34387.23</td>\n",
       "      <td>20190222</td>\n",
       "      <td>NAH4</td>\n",
       "      <td>1.928830e+09</td>\n",
       "      <td>1</td>\n",
       "      <td>1</td>\n",
       "    </tr>\n",
       "    <tr>\n",
       "      <th>42306</th>\n",
       "      <td>200792283</td>\n",
       "      <td>SYSCO  corporation</td>\n",
       "      <td>2019-11-03</td>\n",
       "      <td>2019</td>\n",
       "      <td>1928838776</td>\n",
       "      <td>22-02-19</td>\n",
       "      <td>20190221</td>\n",
       "      <td>2019-03-09</td>\n",
       "      <td>32224.98</td>\n",
       "      <td>20190222</td>\n",
       "      <td>NAA8</td>\n",
       "      <td>1.928839e+09</td>\n",
       "      <td>1</td>\n",
       "      <td>1</td>\n",
       "    </tr>\n",
       "  </tbody>\n",
       "</table>\n",
       "</div>"
      ],
      "text/plain": [
       "      cust_number       name_customer clear_date  buisness_year      doc_id  \\\n",
       "44833   200769623          WAL-MAR in 2019-05-03           2019  1928842094   \n",
       "106     200794332     COST associates 2019-11-03           2019  1928829933   \n",
       "8169    200769623       WAL-MAR trust 2019-05-03           2019  1928841983   \n",
       "5634    200759878       SA associates 2019-11-03           2019  1928830265   \n",
       "42306   200792283  SYSCO  corporation 2019-11-03           2019  1928838776   \n",
       "\n",
       "      posting_date  document_create_date due_in_date  total_open_amount  \\\n",
       "44833     22-02-19              20190222  2019-03-09           78282.61   \n",
       "106       22-02-19              20190220  2019-03-09           17286.51   \n",
       "8169      22-02-19              20190222  2019-03-09           56605.75   \n",
       "5634      22-02-19              20190220  2019-03-09           34387.23   \n",
       "42306     22-02-19              20190221  2019-03-09           32224.98   \n",
       "\n",
       "       baseline_create_date cust_payment_terms    invoice_id  invoice_enc  \\\n",
       "44833              20190222               NAH4  1.928842e+09            1   \n",
       "106                20190222               NAAX  1.928830e+09            1   \n",
       "8169               20190222               NAH4  1.928842e+09            1   \n",
       "5634               20190222               NAH4  1.928830e+09            1   \n",
       "42306              20190222               NAA8  1.928839e+09            1   \n",
       "\n",
       "       business_enc  \n",
       "44833             1  \n",
       "106               1  \n",
       "8169              1  \n",
       "5634              1  \n",
       "42306             1  "
      ]
     },
     "execution_count": 39,
     "metadata": {},
     "output_type": "execute_result"
    }
   ],
   "source": [
    "X_val.head()"
   ]
  },
  {
   "cell_type": "code",
   "execution_count": 40,
   "metadata": {},
   "outputs": [
    {
     "data": {
      "text/plain": [
       "27377"
      ]
     },
     "execution_count": 40,
     "metadata": {},
     "output_type": "execute_result"
    }
   ],
   "source": [
    "  ##almost all the values are unique so not much of direct term can be derived\n",
    "X_train[\"doc_id\"].nunique()"
   ]
  },
  {
   "cell_type": "code",
   "execution_count": 41,
   "metadata": {},
   "outputs": [],
   "source": [
    " ##droping 'doc_id' for no use\n",
    "X_train.drop(\"doc_id\", axis =1,inplace=True)\n",
    "X_val.drop(\"doc_id\", axis =1,inplace=True)"
   ]
  },
  {
   "cell_type": "code",
   "execution_count": 42,
   "metadata": {},
   "outputs": [
    {
     "data": {
      "text/plain": [
       "957"
      ]
     },
     "execution_count": 42,
     "metadata": {},
     "output_type": "execute_result"
    }
   ],
   "source": [
    " ##getting unique values of 'cust_number'\n",
    "X_train['cust_number'].nunique()"
   ]
  },
  {
   "cell_type": "code",
   "execution_count": null,
   "metadata": {},
   "outputs": [],
   "source": []
  },
  {
   "cell_type": "code",
   "execution_count": null,
   "metadata": {},
   "outputs": [],
   "source": []
  },
  {
   "cell_type": "code",
   "execution_count": 43,
   "metadata": {},
   "outputs": [],
   "source": [
    "  ##deleteing 'cust_number' after encoding\n",
    "X_train.drop(['cust_number'], axis =1,inplace=True)\n",
    "X_val.drop(['cust_number'], axis =1,inplace=True)"
   ]
  },
  {
   "cell_type": "code",
   "execution_count": null,
   "metadata": {},
   "outputs": [],
   "source": []
  },
  {
   "cell_type": "code",
   "execution_count": 44,
   "metadata": {},
   "outputs": [
    {
     "data": {
      "text/plain": [
       "<AxesSubplot:xlabel='buisness_year', ylabel='delay'>"
      ]
     },
     "execution_count": 44,
     "metadata": {},
     "output_type": "execute_result"
    },
    {
     "data": {
      "image/png": "[encoded data removed]",
      "text/plain": [
       "<Figure size 432x288 with 1 Axes>"
      ]
     },
     "metadata": {
      "needs_background": "light"
     },
     "output_type": "display_data"
    }
   ],
   "source": [
    " ##all the delays happen in 2020 business_year\n",
    "sns.barplot(x=\"buisness_year\", y=\"delay\",data=temp,linewidth=1.5, edgecolor=\"blue\")"
   ]
  },
  {
   "cell_type": "code",
   "execution_count": 45,
   "metadata": {},
   "outputs": [],
   "source": [
    "business_year_enc=LabelEncoder()"
   ]
  },
  {
   "cell_type": "code",
   "execution_count": 46,
   "metadata": {},
   "outputs": [],
   "source": [
    "  ##Making encoding \"Business_year\" \n",
    "business_year_enc.fit(X_train['buisness_year'])\n",
    "X_train['buisness_year_enc']=business_year_enc.transform(X_train[\"buisness_year\"])"
   ]
  },
  {
   "cell_type": "code",
   "execution_count": 47,
   "metadata": {},
   "outputs": [],
   "source": [
    " ##fitting encoding to 'business_year'\n",
    "X_val['buisness_year_enc']=business_year_enc.transform(X_val[\"buisness_year\"])"
   ]
  },
  {
   "cell_type": "code",
   "execution_count": 48,
   "metadata": {},
   "outputs": [],
   "source": [
    "  ##droping after encoding\n",
    "X_train.drop(['buisness_year'], axis =1,inplace=True)\n",
    "X_val.drop(['buisness_year'], axis =1,inplace=True)"
   ]
  },
  {
   "cell_type": "code",
   "execution_count": 49,
   "metadata": {},
   "outputs": [
    {
     "data": {
      "text/html": [
       "<div>\n",
       "<style scoped>\n",
       "    .dataframe tbody tr th:only-of-type {\n",
       "        vertical-align: middle;\n",
       "    }\n",
       "\n",
       "    .dataframe tbody tr th {\n",
       "        vertical-align: top;\n",
       "    }\n",
       "\n",
       "    .dataframe thead th {\n",
       "        text-align: right;\n",
       "    }\n",
       "</style>\n",
       "<table border=\"1\" class=\"dataframe\">\n",
       "  <thead>\n",
       "    <tr style=\"text-align: right;\">\n",
       "      <th></th>\n",
       "      <th>name_customer</th>\n",
       "      <th>clear_date</th>\n",
       "      <th>posting_date</th>\n",
       "      <th>document_create_date</th>\n",
       "      <th>due_in_date</th>\n",
       "      <th>total_open_amount</th>\n",
       "      <th>baseline_create_date</th>\n",
       "      <th>cust_payment_terms</th>\n",
       "      <th>invoice_id</th>\n",
       "      <th>invoice_enc</th>\n",
       "      <th>business_enc</th>\n",
       "      <th>buisness_year_enc</th>\n",
       "    </tr>\n",
       "  </thead>\n",
       "  <tbody>\n",
       "    <tr>\n",
       "      <th>2106</th>\n",
       "      <td>WAL-MAR us</td>\n",
       "      <td>2019-11-01</td>\n",
       "      <td>01-01-19</td>\n",
       "      <td>20181230</td>\n",
       "      <td>2019-01-16</td>\n",
       "      <td>59830.50</td>\n",
       "      <td>20190101</td>\n",
       "      <td>NAH4</td>\n",
       "      <td>1.928542e+09</td>\n",
       "      <td>1</td>\n",
       "      <td>1</td>\n",
       "      <td>0</td>\n",
       "    </tr>\n",
       "    <tr>\n",
       "      <th>46882</th>\n",
       "      <td>KROGER</td>\n",
       "      <td>2019-01-16</td>\n",
       "      <td>01-01-19</td>\n",
       "      <td>20190101</td>\n",
       "      <td>2019-01-16</td>\n",
       "      <td>104109.51</td>\n",
       "      <td>20190101</td>\n",
       "      <td>NAA8</td>\n",
       "      <td>1.928549e+09</td>\n",
       "      <td>1</td>\n",
       "      <td>1</td>\n",
       "      <td>0</td>\n",
       "    </tr>\n",
       "    <tr>\n",
       "      <th>8893</th>\n",
       "      <td>WAL-MAR llc</td>\n",
       "      <td>2019-11-01</td>\n",
       "      <td>01-01-19</td>\n",
       "      <td>20190101</td>\n",
       "      <td>2019-01-16</td>\n",
       "      <td>17178.67</td>\n",
       "      <td>20190101</td>\n",
       "      <td>NAH4</td>\n",
       "      <td>1.928549e+09</td>\n",
       "      <td>1</td>\n",
       "      <td>1</td>\n",
       "      <td>0</td>\n",
       "    </tr>\n",
       "    <tr>\n",
       "      <th>11006</th>\n",
       "      <td>WAL-MAR in</td>\n",
       "      <td>2019-01-14</td>\n",
       "      <td>01-01-19</td>\n",
       "      <td>20190102</td>\n",
       "      <td>2019-01-16</td>\n",
       "      <td>14488.71</td>\n",
       "      <td>20190101</td>\n",
       "      <td>NAH4</td>\n",
       "      <td>1.928550e+09</td>\n",
       "      <td>1</td>\n",
       "      <td>1</td>\n",
       "      <td>0</td>\n",
       "    </tr>\n",
       "    <tr>\n",
       "      <th>18132</th>\n",
       "      <td>C&amp;S WH co</td>\n",
       "      <td>2019-01-16</td>\n",
       "      <td>01-01-19</td>\n",
       "      <td>20190102</td>\n",
       "      <td>2019-01-16</td>\n",
       "      <td>86309.72</td>\n",
       "      <td>20190101</td>\n",
       "      <td>NAC6</td>\n",
       "      <td>1.928549e+09</td>\n",
       "      <td>1</td>\n",
       "      <td>1</td>\n",
       "      <td>0</td>\n",
       "    </tr>\n",
       "  </tbody>\n",
       "</table>\n",
       "</div>"
      ],
      "text/plain": [
       "      name_customer clear_date posting_date  document_create_date due_in_date  \\\n",
       "2106     WAL-MAR us 2019-11-01     01-01-19              20181230  2019-01-16   \n",
       "46882       KROGER  2019-01-16     01-01-19              20190101  2019-01-16   \n",
       "8893    WAL-MAR llc 2019-11-01     01-01-19              20190101  2019-01-16   \n",
       "11006    WAL-MAR in 2019-01-14     01-01-19              20190102  2019-01-16   \n",
       "18132     C&S WH co 2019-01-16     01-01-19              20190102  2019-01-16   \n",
       "\n",
       "       total_open_amount  baseline_create_date cust_payment_terms  \\\n",
       "2106            59830.50              20190101               NAH4   \n",
       "46882          104109.51              20190101               NAA8   \n",
       "8893            17178.67              20190101               NAH4   \n",
       "11006           14488.71              20190101               NAH4   \n",
       "18132           86309.72              20190101               NAC6   \n",
       "\n",
       "         invoice_id  invoice_enc  business_enc  buisness_year_enc  \n",
       "2106   1.928542e+09            1             1                  0  \n",
       "46882  1.928549e+09            1             1                  0  \n",
       "8893   1.928549e+09            1             1                  0  \n",
       "11006  1.928550e+09            1             1                  0  \n",
       "18132  1.928549e+09            1             1                  0  "
      ]
     },
     "execution_count": 49,
     "metadata": {},
     "output_type": "execute_result"
    }
   ],
   "source": [
    "X_train.head()"
   ]
  },
  {
   "cell_type": "markdown",
   "metadata": {},
   "source": [
    "# Feature Selection"
   ]
  },
  {
   "cell_type": "code",
   "execution_count": 50,
   "metadata": {},
   "outputs": [],
   "source": [
    "  ##droping all the features that are not need for model\n",
    "X_train.drop(['name_customer','clear_date',\"document_create_date\",\"due_in_date\",'cust_payment_terms','invoice_id'], axis =1,inplace=True)"
   ]
  },
  {
   "cell_type": "code",
   "execution_count": 51,
   "metadata": {},
   "outputs": [],
   "source": [
    " ##transforming posting date to datetime for using as feature\n",
    "X_train[\"posting_date\"]= X_train[\"posting_date\"].apply(pd.to_datetime)"
   ]
  },
  {
   "cell_type": "code",
   "execution_count": 52,
   "metadata": {},
   "outputs": [],
   "source": [
    "X_val[\"posting_date\"]= X_val[\"posting_date\"].apply(pd.to_datetime)"
   ]
  },
  {
   "cell_type": "code",
   "execution_count": 53,
   "metadata": {},
   "outputs": [],
   "source": [
    "X_val.drop(['name_customer','clear_date',\"document_create_date\",\"due_in_date\",'cust_payment_terms','invoice_id'], axis =1,inplace=True)"
   ]
  },
  {
   "cell_type": "code",
   "execution_count": 54,
   "metadata": {},
   "outputs": [
    {
     "name": "stdout",
     "output_type": "stream",
     "text": [
      "<class 'pandas.core.frame.DataFrame'>\n",
      "Int64Index: 11734 entries, 44833 to 17204\n",
      "Data columns (total 6 columns):\n",
      " #   Column                Non-Null Count  Dtype         \n",
      "---  ------                --------------  -----         \n",
      " 0   posting_date          11734 non-null  datetime64[ns]\n",
      " 1   total_open_amount     11734 non-null  float64       \n",
      " 2   baseline_create_date  11734 non-null  int64         \n",
      " 3   invoice_enc           11734 non-null  int32         \n",
      " 4   business_enc          11734 non-null  int32         \n",
      " 5   buisness_year_enc     11734 non-null  int64         \n",
      "dtypes: datetime64[ns](1), float64(1), int32(2), int64(2)\n",
      "memory usage: 550.0 KB\n"
     ]
    }
   ],
   "source": [
    "X_val.info()"
   ]
  },
  {
   "cell_type": "code",
   "execution_count": 55,
   "metadata": {},
   "outputs": [],
   "source": [
    "  ##extracting 'date','month','year' from \"posting\" collumn \n",
    "X_train['posting_date_enc'] = X_train['posting_date'].dt.day\n",
    "X_train['posting_month_enc'] = X_train['posting_date'].dt.month\n",
    "X_train['posting_date_year'] = X_train['posting_date'].dt.year"
   ]
  },
  {
   "cell_type": "code",
   "execution_count": 56,
   "metadata": {},
   "outputs": [],
   "source": [
    "X_val['posting_date_enc'] = X_val['posting_date'].dt.day\n",
    "X_val['posting_month_enc'] = X_val['posting_date'].dt.month\n",
    "X_val['posting_year_enc'] = X_val['posting_date'].dt.year"
   ]
  },
  {
   "cell_type": "code",
   "execution_count": 57,
   "metadata": {},
   "outputs": [],
   "source": [
    "X_train.drop(\"posting_date\", axis =1,inplace=True)\n",
    "X_val.drop(\"posting_date\", axis =1,inplace=True)"
   ]
  },
  {
   "cell_type": "code",
   "execution_count": 58,
   "metadata": {},
   "outputs": [],
   "source": [
    "  ##transforming \"baseline_create_date\" to datetime format \n",
    "X_train[\"baseline_create_date\"] = pd.to_datetime(X_train[\"baseline_create_date\"], format='%Y%m%d')"
   ]
  },
  {
   "cell_type": "code",
   "execution_count": 59,
   "metadata": {},
   "outputs": [],
   "source": [
    " ##using \"baseline_create_date\" with the values of which quarter it belong\n",
    "X_train['baseline_quater']= pd.to_datetime(X_train['baseline_create_date']).dt.quarter\n"
   ]
  },
  {
   "cell_type": "code",
   "execution_count": 60,
   "metadata": {},
   "outputs": [],
   "source": [
    "X_val[\"baseline_create_date\"] = pd.to_datetime(X_val[\"baseline_create_date\"], format='%Y%m%d')\n",
    "X_val['baseline_quater']= pd.to_datetime(X_val['baseline_create_date']).dt.quarter"
   ]
  },
  {
   "cell_type": "code",
   "execution_count": 61,
   "metadata": {},
   "outputs": [],
   "source": [
    "X_train.drop(\"baseline_create_date\", axis =1,inplace=True)\n",
    "X_val.drop(\"baseline_create_date\", axis =1,inplace=True)"
   ]
  },
  {
   "cell_type": "markdown",
   "metadata": {},
   "source": [
    "# Understanding patterns of data set"
   ]
  },
  {
   "cell_type": "code",
   "execution_count": 62,
   "metadata": {},
   "outputs": [
    {
     "data": {
      "text/plain": [
       "<AxesSubplot:>"
      ]
     },
     "execution_count": 62,
     "metadata": {},
     "output_type": "execute_result"
    },
    {
     "data": {
      "image/png": "[encoded data removed]",
      "text/plain": [
       "<Figure size 1152x648 with 2 Axes>"
      ]
     },
     "metadata": {
      "needs_background": "light"
     },
     "output_type": "display_data"
    }
   ],
   "source": [
    "  ##using heatmap for finding relation between \"target\" and others  \n",
    "plt.figure(figsize=(16,9))\n",
    "sns.heatmap(X_train.merge(y_train , on = X_train.index ).corr(),linewidths=0.1,vmax=1.0, \n",
    "            square=True, linecolor='white', annot=True)"
   ]
  },
  {
   "cell_type": "code",
   "execution_count": 63,
   "metadata": {},
   "outputs": [],
   "source": [
    "test=test.drop_duplicates(keep=\"first\")"
   ]
  },
  {
   "cell_type": "code",
   "execution_count": 64,
   "metadata": {},
   "outputs": [
    {
     "name": "stdout",
     "output_type": "stream",
     "text": [
      "<class 'pandas.core.frame.DataFrame'>\n",
      "Int64Index: 27377 entries, 2106 to 16923\n",
      "Data columns (total 8 columns):\n",
      " #   Column             Non-Null Count  Dtype  \n",
      "---  ------             --------------  -----  \n",
      " 0   total_open_amount  27377 non-null  float64\n",
      " 1   invoice_enc        27377 non-null  int32  \n",
      " 2   business_enc       27377 non-null  int32  \n",
      " 3   buisness_year_enc  27377 non-null  int64  \n",
      " 4   posting_date_enc   27377 non-null  int64  \n",
      " 5   posting_month_enc  27377 non-null  int64  \n",
      " 6   posting_date_year  27377 non-null  int64  \n",
      " 7   baseline_quater    27377 non-null  int64  \n",
      "dtypes: float64(1), int32(2), int64(5)\n",
      "memory usage: 1.7 MB\n"
     ]
    }
   ],
   "source": [
    "X_train.info()"
   ]
  },
  {
   "cell_type": "code",
   "execution_count": 65,
   "metadata": {},
   "outputs": [],
   "source": [
    "X_test=test"
   ]
  },
  {
   "cell_type": "code",
   "execution_count": 66,
   "metadata": {},
   "outputs": [
    {
     "data": {
      "text/html": [
       "<div>\n",
       "<style scoped>\n",
       "    .dataframe tbody tr th:only-of-type {\n",
       "        vertical-align: middle;\n",
       "    }\n",
       "\n",
       "    .dataframe tbody tr th {\n",
       "        vertical-align: top;\n",
       "    }\n",
       "\n",
       "    .dataframe thead th {\n",
       "        text-align: right;\n",
       "    }\n",
       "</style>\n",
       "<table border=\"1\" class=\"dataframe\">\n",
       "  <thead>\n",
       "    <tr style=\"text-align: right;\">\n",
       "      <th></th>\n",
       "      <th>business_code</th>\n",
       "      <th>cust_number</th>\n",
       "      <th>name_customer</th>\n",
       "      <th>clear_date</th>\n",
       "      <th>buisness_year</th>\n",
       "      <th>doc_id</th>\n",
       "      <th>posting_date</th>\n",
       "      <th>document_create_date</th>\n",
       "      <th>document_create_date.1</th>\n",
       "      <th>due_in_date</th>\n",
       "      <th>invoice_currency</th>\n",
       "      <th>document type</th>\n",
       "      <th>posting_id</th>\n",
       "      <th>area_business</th>\n",
       "      <th>total_open_amount</th>\n",
       "      <th>baseline_create_date</th>\n",
       "      <th>cust_payment_terms</th>\n",
       "      <th>invoice_id</th>\n",
       "      <th>isOpen</th>\n",
       "    </tr>\n",
       "  </thead>\n",
       "  <tbody>\n",
       "    <tr>\n",
       "      <th>1</th>\n",
       "      <td>U001</td>\n",
       "      <td>200726979</td>\n",
       "      <td>BJ'S  corporation</td>\n",
       "      <td>NaN</td>\n",
       "      <td>2020</td>\n",
       "      <td>1930813533</td>\n",
       "      <td>22-04-20</td>\n",
       "      <td>20200422</td>\n",
       "      <td>20200422</td>\n",
       "      <td>20200507</td>\n",
       "      <td>USD</td>\n",
       "      <td>RV</td>\n",
       "      <td>1</td>\n",
       "      <td>NaN</td>\n",
       "      <td>132.72</td>\n",
       "      <td>20200422</td>\n",
       "      <td>NAA8</td>\n",
       "      <td>1.930814e+09</td>\n",
       "      <td>1</td>\n",
       "    </tr>\n",
       "    <tr>\n",
       "      <th>4</th>\n",
       "      <td>U001</td>\n",
       "      <td>200739534</td>\n",
       "      <td>OK systems</td>\n",
       "      <td>NaN</td>\n",
       "      <td>2020</td>\n",
       "      <td>1930782511</td>\n",
       "      <td>13-04-20</td>\n",
       "      <td>20200413</td>\n",
       "      <td>20200413</td>\n",
       "      <td>20200428</td>\n",
       "      <td>USD</td>\n",
       "      <td>RV</td>\n",
       "      <td>1</td>\n",
       "      <td>NaN</td>\n",
       "      <td>25051.77</td>\n",
       "      <td>20200413</td>\n",
       "      <td>NAA8</td>\n",
       "      <td>1.930783e+09</td>\n",
       "      <td>1</td>\n",
       "    </tr>\n",
       "    <tr>\n",
       "      <th>7</th>\n",
       "      <td>U001</td>\n",
       "      <td>200769623</td>\n",
       "      <td>WAL-MAR co</td>\n",
       "      <td>NaN</td>\n",
       "      <td>2020</td>\n",
       "      <td>1930729711</td>\n",
       "      <td>02-04-20</td>\n",
       "      <td>20200401</td>\n",
       "      <td>20200402</td>\n",
       "      <td>20200417</td>\n",
       "      <td>USD</td>\n",
       "      <td>RV</td>\n",
       "      <td>1</td>\n",
       "      <td>NaN</td>\n",
       "      <td>19141.79</td>\n",
       "      <td>20200402</td>\n",
       "      <td>NAH4</td>\n",
       "      <td>1.930730e+09</td>\n",
       "      <td>1</td>\n",
       "    </tr>\n",
       "    <tr>\n",
       "      <th>10</th>\n",
       "      <td>U001</td>\n",
       "      <td>200744019</td>\n",
       "      <td>TARG associates</td>\n",
       "      <td>NaN</td>\n",
       "      <td>2020</td>\n",
       "      <td>1930764060</td>\n",
       "      <td>09-04-20</td>\n",
       "      <td>20200408</td>\n",
       "      <td>20200409</td>\n",
       "      <td>20200424</td>\n",
       "      <td>USD</td>\n",
       "      <td>RV</td>\n",
       "      <td>1</td>\n",
       "      <td>NaN</td>\n",
       "      <td>2116.88</td>\n",
       "      <td>20200409</td>\n",
       "      <td>NAA8</td>\n",
       "      <td>1.930764e+09</td>\n",
       "      <td>1</td>\n",
       "    </tr>\n",
       "    <tr>\n",
       "      <th>29</th>\n",
       "      <td>U001</td>\n",
       "      <td>200782772</td>\n",
       "      <td>ASSOC G co</td>\n",
       "      <td>NaN</td>\n",
       "      <td>2020</td>\n",
       "      <td>1930828600</td>\n",
       "      <td>26-04-20</td>\n",
       "      <td>20200426</td>\n",
       "      <td>20200426</td>\n",
       "      <td>20200511</td>\n",
       "      <td>USD</td>\n",
       "      <td>RV</td>\n",
       "      <td>1</td>\n",
       "      <td>NaN</td>\n",
       "      <td>2094.41</td>\n",
       "      <td>20200426</td>\n",
       "      <td>NAA8</td>\n",
       "      <td>1.930829e+09</td>\n",
       "      <td>1</td>\n",
       "    </tr>\n",
       "  </tbody>\n",
       "</table>\n",
       "</div>"
      ],
      "text/plain": [
       "   business_code cust_number      name_customer clear_date  buisness_year  \\\n",
       "1           U001   200726979  BJ'S  corporation        NaN           2020   \n",
       "4           U001   200739534         OK systems        NaN           2020   \n",
       "7           U001   200769623         WAL-MAR co        NaN           2020   \n",
       "10          U001   200744019    TARG associates        NaN           2020   \n",
       "29          U001   200782772         ASSOC G co        NaN           2020   \n",
       "\n",
       "        doc_id posting_date  document_create_date  document_create_date.1  \\\n",
       "1   1930813533     22-04-20              20200422                20200422   \n",
       "4   1930782511     13-04-20              20200413                20200413   \n",
       "7   1930729711     02-04-20              20200401                20200402   \n",
       "10  1930764060     09-04-20              20200408                20200409   \n",
       "29  1930828600     26-04-20              20200426                20200426   \n",
       "\n",
       "    due_in_date invoice_currency document type  posting_id  area_business  \\\n",
       "1      20200507              USD            RV           1            NaN   \n",
       "4      20200428              USD            RV           1            NaN   \n",
       "7      20200417              USD            RV           1            NaN   \n",
       "10     20200424              USD            RV           1            NaN   \n",
       "29     20200511              USD            RV           1            NaN   \n",
       "\n",
       "    total_open_amount  baseline_create_date cust_payment_terms    invoice_id  \\\n",
       "1              132.72              20200422               NAA8  1.930814e+09   \n",
       "4            25051.77              20200413               NAA8  1.930783e+09   \n",
       "7            19141.79              20200402               NAH4  1.930730e+09   \n",
       "10            2116.88              20200409               NAA8  1.930764e+09   \n",
       "29            2094.41              20200426               NAA8  1.930829e+09   \n",
       "\n",
       "    isOpen  \n",
       "1        1  \n",
       "4        1  \n",
       "7        1  \n",
       "10       1  \n",
       "29       1  "
      ]
     },
     "execution_count": 66,
     "metadata": {},
     "output_type": "execute_result"
    }
   ],
   "source": [
    "X_test.head()"
   ]
  },
  {
   "cell_type": "code",
   "execution_count": 67,
   "metadata": {},
   "outputs": [],
   "source": [
    "X_test=X_test.drop_duplicates(keep=\"first\")"
   ]
  },
  {
   "cell_type": "markdown",
   "metadata": {},
   "source": [
    "Maping all the features of train set to final test set"
   ]
  },
  {
   "cell_type": "code",
   "execution_count": 68,
   "metadata": {},
   "outputs": [],
   "source": [
    "webframe=X_test"
   ]
  },
  {
   "cell_type": "code",
   "execution_count": 69,
   "metadata": {},
   "outputs": [
    {
     "data": {
      "text/html": [
       "<div>\n",
       "<style scoped>\n",
       "    .dataframe tbody tr th:only-of-type {\n",
       "        vertical-align: middle;\n",
       "    }\n",
       "\n",
       "    .dataframe tbody tr th {\n",
       "        vertical-align: top;\n",
       "    }\n",
       "\n",
       "    .dataframe thead th {\n",
       "        text-align: right;\n",
       "    }\n",
       "</style>\n",
       "<table border=\"1\" class=\"dataframe\">\n",
       "  <thead>\n",
       "    <tr style=\"text-align: right;\">\n",
       "      <th></th>\n",
       "      <th>business_code</th>\n",
       "      <th>cust_number</th>\n",
       "      <th>name_customer</th>\n",
       "      <th>clear_date</th>\n",
       "      <th>buisness_year</th>\n",
       "      <th>doc_id</th>\n",
       "      <th>posting_date</th>\n",
       "      <th>document_create_date</th>\n",
       "      <th>document_create_date.1</th>\n",
       "      <th>due_in_date</th>\n",
       "      <th>invoice_currency</th>\n",
       "      <th>document type</th>\n",
       "      <th>posting_id</th>\n",
       "      <th>area_business</th>\n",
       "      <th>total_open_amount</th>\n",
       "      <th>baseline_create_date</th>\n",
       "      <th>cust_payment_terms</th>\n",
       "      <th>invoice_id</th>\n",
       "      <th>isOpen</th>\n",
       "    </tr>\n",
       "  </thead>\n",
       "  <tbody>\n",
       "    <tr>\n",
       "      <th>1</th>\n",
       "      <td>U001</td>\n",
       "      <td>200726979</td>\n",
       "      <td>BJ'S  corporation</td>\n",
       "      <td>NaN</td>\n",
       "      <td>2020</td>\n",
       "      <td>1930813533</td>\n",
       "      <td>22-04-20</td>\n",
       "      <td>20200422</td>\n",
       "      <td>20200422</td>\n",
       "      <td>20200507</td>\n",
       "      <td>USD</td>\n",
       "      <td>RV</td>\n",
       "      <td>1</td>\n",
       "      <td>NaN</td>\n",
       "      <td>132.72</td>\n",
       "      <td>20200422</td>\n",
       "      <td>NAA8</td>\n",
       "      <td>1.930814e+09</td>\n",
       "      <td>1</td>\n",
       "    </tr>\n",
       "    <tr>\n",
       "      <th>4</th>\n",
       "      <td>U001</td>\n",
       "      <td>200739534</td>\n",
       "      <td>OK systems</td>\n",
       "      <td>NaN</td>\n",
       "      <td>2020</td>\n",
       "      <td>1930782511</td>\n",
       "      <td>13-04-20</td>\n",
       "      <td>20200413</td>\n",
       "      <td>20200413</td>\n",
       "      <td>20200428</td>\n",
       "      <td>USD</td>\n",
       "      <td>RV</td>\n",
       "      <td>1</td>\n",
       "      <td>NaN</td>\n",
       "      <td>25051.77</td>\n",
       "      <td>20200413</td>\n",
       "      <td>NAA8</td>\n",
       "      <td>1.930783e+09</td>\n",
       "      <td>1</td>\n",
       "    </tr>\n",
       "    <tr>\n",
       "      <th>7</th>\n",
       "      <td>U001</td>\n",
       "      <td>200769623</td>\n",
       "      <td>WAL-MAR co</td>\n",
       "      <td>NaN</td>\n",
       "      <td>2020</td>\n",
       "      <td>1930729711</td>\n",
       "      <td>02-04-20</td>\n",
       "      <td>20200401</td>\n",
       "      <td>20200402</td>\n",
       "      <td>20200417</td>\n",
       "      <td>USD</td>\n",
       "      <td>RV</td>\n",
       "      <td>1</td>\n",
       "      <td>NaN</td>\n",
       "      <td>19141.79</td>\n",
       "      <td>20200402</td>\n",
       "      <td>NAH4</td>\n",
       "      <td>1.930730e+09</td>\n",
       "      <td>1</td>\n",
       "    </tr>\n",
       "    <tr>\n",
       "      <th>10</th>\n",
       "      <td>U001</td>\n",
       "      <td>200744019</td>\n",
       "      <td>TARG associates</td>\n",
       "      <td>NaN</td>\n",
       "      <td>2020</td>\n",
       "      <td>1930764060</td>\n",
       "      <td>09-04-20</td>\n",
       "      <td>20200408</td>\n",
       "      <td>20200409</td>\n",
       "      <td>20200424</td>\n",
       "      <td>USD</td>\n",
       "      <td>RV</td>\n",
       "      <td>1</td>\n",
       "      <td>NaN</td>\n",
       "      <td>2116.88</td>\n",
       "      <td>20200409</td>\n",
       "      <td>NAA8</td>\n",
       "      <td>1.930764e+09</td>\n",
       "      <td>1</td>\n",
       "    </tr>\n",
       "    <tr>\n",
       "      <th>29</th>\n",
       "      <td>U001</td>\n",
       "      <td>200782772</td>\n",
       "      <td>ASSOC G co</td>\n",
       "      <td>NaN</td>\n",
       "      <td>2020</td>\n",
       "      <td>1930828600</td>\n",
       "      <td>26-04-20</td>\n",
       "      <td>20200426</td>\n",
       "      <td>20200426</td>\n",
       "      <td>20200511</td>\n",
       "      <td>USD</td>\n",
       "      <td>RV</td>\n",
       "      <td>1</td>\n",
       "      <td>NaN</td>\n",
       "      <td>2094.41</td>\n",
       "      <td>20200426</td>\n",
       "      <td>NAA8</td>\n",
       "      <td>1.930829e+09</td>\n",
       "      <td>1</td>\n",
       "    </tr>\n",
       "  </tbody>\n",
       "</table>\n",
       "</div>"
      ],
      "text/plain": [
       "   business_code cust_number      name_customer clear_date  buisness_year  \\\n",
       "1           U001   200726979  BJ'S  corporation        NaN           2020   \n",
       "4           U001   200739534         OK systems        NaN           2020   \n",
       "7           U001   200769623         WAL-MAR co        NaN           2020   \n",
       "10          U001   200744019    TARG associates        NaN           2020   \n",
       "29          U001   200782772         ASSOC G co        NaN           2020   \n",
       "\n",
       "        doc_id posting_date  document_create_date  document_create_date.1  \\\n",
       "1   1930813533     22-04-20              20200422                20200422   \n",
       "4   1930782511     13-04-20              20200413                20200413   \n",
       "7   1930729711     02-04-20              20200401                20200402   \n",
       "10  1930764060     09-04-20              20200408                20200409   \n",
       "29  1930828600     26-04-20              20200426                20200426   \n",
       "\n",
       "    due_in_date invoice_currency document type  posting_id  area_business  \\\n",
       "1      20200507              USD            RV           1            NaN   \n",
       "4      20200428              USD            RV           1            NaN   \n",
       "7      20200417              USD            RV           1            NaN   \n",
       "10     20200424              USD            RV           1            NaN   \n",
       "29     20200511              USD            RV           1            NaN   \n",
       "\n",
       "    total_open_amount  baseline_create_date cust_payment_terms    invoice_id  \\\n",
       "1              132.72              20200422               NAA8  1.930814e+09   \n",
       "4            25051.77              20200413               NAA8  1.930783e+09   \n",
       "7            19141.79              20200402               NAH4  1.930730e+09   \n",
       "10            2116.88              20200409               NAA8  1.930764e+09   \n",
       "29            2094.41              20200426               NAA8  1.930829e+09   \n",
       "\n",
       "    isOpen  \n",
       "1        1  \n",
       "4        1  \n",
       "7        1  \n",
       "10       1  \n",
       "29       1  "
      ]
     },
     "execution_count": 69,
     "metadata": {},
     "output_type": "execute_result"
    }
   ],
   "source": [
    "\n",
    "X_test.head()"
   ]
  },
  {
   "cell_type": "code",
   "execution_count": 70,
   "metadata": {},
   "outputs": [],
   "source": [
    "  ##deleting all the features that are not there in train set\n",
    "X_test=X_test.drop(labels=\"area_business\",axis=1)\n",
    "X_test=X_test.drop(labels=\"document_create_date.1\",axis=1)\n",
    "X_test=X_test.drop(labels=\"posting_id\",axis=1)"
   ]
  },
  {
   "cell_type": "code",
   "execution_count": 71,
   "metadata": {},
   "outputs": [],
   "source": [
    "X_test[\"clear_date\"]= X_test[\"clear_date\"].apply(pd.to_datetime)\n",
    "X_test[\"due_in_date\"] = pd.to_datetime(X_test[\"due_in_date\"], format='%Y%m%d')"
   ]
  },
  {
   "cell_type": "code",
   "execution_count": 72,
   "metadata": {},
   "outputs": [],
   "source": [
    "  ##making 'target' values\n",
    "X_test[\"delay\"]=(X_test[\"clear_date\"]-X_test[\"due_in_date\"])"
   ]
  },
  {
   "cell_type": "code",
   "execution_count": 73,
   "metadata": {},
   "outputs": [],
   "source": [
    "X_test[\"delay\"]=X_test['delay'].dt.days\n"
   ]
  },
  {
   "cell_type": "code",
   "execution_count": 74,
   "metadata": {},
   "outputs": [
    {
     "name": "stdout",
     "output_type": "stream",
     "text": [
      "<class 'pandas.core.frame.DataFrame'>\n",
      "Int64Index: 9684 entries, 1 to 49998\n",
      "Data columns (total 17 columns):\n",
      " #   Column                Non-Null Count  Dtype         \n",
      "---  ------                --------------  -----         \n",
      " 0   business_code         9684 non-null   object        \n",
      " 1   cust_number           9684 non-null   object        \n",
      " 2   name_customer         9684 non-null   object        \n",
      " 3   clear_date            0 non-null      datetime64[ns]\n",
      " 4   buisness_year         9684 non-null   int64         \n",
      " 5   doc_id                9684 non-null   int64         \n",
      " 6   posting_date          9684 non-null   object        \n",
      " 7   document_create_date  9684 non-null   int64         \n",
      " 8   due_in_date           9684 non-null   datetime64[ns]\n",
      " 9   invoice_currency      9684 non-null   object        \n",
      " 10  document type         9684 non-null   object        \n",
      " 11  total_open_amount     9684 non-null   float64       \n",
      " 12  baseline_create_date  9684 non-null   int64         \n",
      " 13  cust_payment_terms    9684 non-null   object        \n",
      " 14  invoice_id            9684 non-null   float64       \n",
      " 15  isOpen                9684 non-null   int64         \n",
      " 16  delay                 0 non-null      float64       \n",
      "dtypes: datetime64[ns](2), float64(3), int64(5), object(7)\n",
      "memory usage: 1.3+ MB\n"
     ]
    }
   ],
   "source": [
    "X_test.info()"
   ]
  },
  {
   "cell_type": "code",
   "execution_count": 75,
   "metadata": {},
   "outputs": [],
   "source": [
    "X_test=X_test.drop(labels=\"document type\",axis=1)\n",
    "X_test=X_test.drop(labels=\"isOpen\",axis=1)"
   ]
  },
  {
   "cell_type": "code",
   "execution_count": 76,
   "metadata": {},
   "outputs": [],
   "source": [
    "X_test=X_test.sort_values(by=['posting_date'])"
   ]
  },
  {
   "cell_type": "code",
   "execution_count": 77,
   "metadata": {},
   "outputs": [],
   "source": [
    "delay_d=X_test['delay'] \n",
    "X_test= X_test.drop(\"delay\",axis=1)"
   ]
  },
  {
   "cell_type": "code",
   "execution_count": 78,
   "metadata": {},
   "outputs": [],
   "source": [
    "X_test['invoice_enc']=invoice_enc.transform(X_test[\"invoice_currency\"])"
   ]
  },
  {
   "cell_type": "code",
   "execution_count": 79,
   "metadata": {},
   "outputs": [],
   "source": [
    "X_test.drop(['invoice_currency'], axis =1,inplace=True)"
   ]
  },
  {
   "cell_type": "code",
   "execution_count": 80,
   "metadata": {},
   "outputs": [],
   "source": [
    "  ##Encoding all the features that are required for model building\n",
    "X_test['business_enc']=business_enc.transform(X_test[\"business_code\"])\n"
   ]
  },
  {
   "cell_type": "code",
   "execution_count": 81,
   "metadata": {},
   "outputs": [],
   "source": [
    "X_test.drop(['business_code'], axis =1,inplace=True)"
   ]
  },
  {
   "cell_type": "code",
   "execution_count": 82,
   "metadata": {},
   "outputs": [],
   "source": [
    "X_test.drop(\"doc_id\", axis =1,inplace=True)"
   ]
  },
  {
   "cell_type": "code",
   "execution_count": 83,
   "metadata": {},
   "outputs": [],
   "source": [
    "X_test['buisness_year_enc']=business_year_enc.transform(X_test[\"buisness_year\"])"
   ]
  },
  {
   "cell_type": "code",
   "execution_count": 84,
   "metadata": {},
   "outputs": [],
   "source": [
    "X_test.drop(['buisness_year'], axis =1,inplace=True)"
   ]
  },
  {
   "cell_type": "code",
   "execution_count": 85,
   "metadata": {},
   "outputs": [],
   "source": [
    "X_test.drop(['name_customer','clear_date',\"document_create_date\",\"due_in_date\",'cust_payment_terms','invoice_id'], axis =1,inplace=True)"
   ]
  },
  {
   "cell_type": "code",
   "execution_count": 86,
   "metadata": {},
   "outputs": [],
   "source": [
    "X_test[\"posting_date\"]= X_test[\"posting_date\"].apply(pd.to_datetime)"
   ]
  },
  {
   "cell_type": "code",
   "execution_count": 87,
   "metadata": {},
   "outputs": [],
   "source": [
    "X_test['posting_date_enc'] = X_test['posting_date'].dt.day\n",
    "X_test['posting_month_enc'] = X_test['posting_date'].dt.month\n",
    "X_test['posting_date_year'] = X_test['posting_date'].dt.year"
   ]
  },
  {
   "cell_type": "code",
   "execution_count": 88,
   "metadata": {},
   "outputs": [],
   "source": [
    "X_test.drop(\"posting_date\", axis =1,inplace=True)"
   ]
  },
  {
   "cell_type": "code",
   "execution_count": 89,
   "metadata": {},
   "outputs": [],
   "source": [
    "X_test[\"baseline_create_date\"] = pd.to_datetime(X_test[\"baseline_create_date\"], format='%Y%m%d')"
   ]
  },
  {
   "cell_type": "code",
   "execution_count": 90,
   "metadata": {},
   "outputs": [],
   "source": [
    "X_test['baseline_quater']= pd.to_datetime(X_test['baseline_create_date']).dt.quarter"
   ]
  },
  {
   "cell_type": "code",
   "execution_count": 91,
   "metadata": {},
   "outputs": [],
   "source": [
    "X_test.drop(\"baseline_create_date\", axis =1,inplace=True)"
   ]
  },
  {
   "cell_type": "code",
   "execution_count": 92,
   "metadata": {},
   "outputs": [],
   "source": [
    "X_test.drop(['cust_number'], axis =1,inplace=True)"
   ]
  },
  {
   "cell_type": "code",
   "execution_count": 93,
   "metadata": {},
   "outputs": [
    {
     "name": "stdout",
     "output_type": "stream",
     "text": [
      "<class 'pandas.core.frame.DataFrame'>\n",
      "Int64Index: 9684 entries, 7914 to 39449\n",
      "Data columns (total 8 columns):\n",
      " #   Column             Non-Null Count  Dtype  \n",
      "---  ------             --------------  -----  \n",
      " 0   total_open_amount  9684 non-null   float64\n",
      " 1   invoice_enc        9684 non-null   int32  \n",
      " 2   business_enc       9684 non-null   int32  \n",
      " 3   buisness_year_enc  9684 non-null   int64  \n",
      " 4   posting_date_enc   9684 non-null   int64  \n",
      " 5   posting_month_enc  9684 non-null   int64  \n",
      " 6   posting_date_year  9684 non-null   int64  \n",
      " 7   baseline_quater    9684 non-null   int64  \n",
      "dtypes: float64(1), int32(2), int64(5)\n",
      "memory usage: 605.2 KB\n"
     ]
    }
   ],
   "source": [
    "X_test.info()"
   ]
  },
  {
   "cell_type": "code",
   "execution_count": 94,
   "metadata": {},
   "outputs": [],
   "source": [
    "X_test2=X_test"
   ]
  },
  {
   "cell_type": "code",
   "execution_count": null,
   "metadata": {},
   "outputs": [],
   "source": []
  },
  {
   "cell_type": "markdown",
   "metadata": {},
   "source": [
    "# Milestone 3"
   ]
  },
  {
   "cell_type": "code",
   "execution_count": 95,
   "metadata": {},
   "outputs": [],
   "source": [
    "  ##importing of \"LinearRegression\" model from \"sklearn\"\n",
    "from sklearn.linear_model import LinearRegression"
   ]
  },
  {
   "cell_type": "code",
   "execution_count": 96,
   "metadata": {},
   "outputs": [
    {
     "data": {
      "text/plain": [
       "LinearRegression()"
      ]
     },
     "execution_count": 96,
     "metadata": {},
     "output_type": "execute_result"
    }
   ],
   "source": [
    "  ##making 'object' and train the model on that\n",
    "lr = LinearRegression()\n",
    "lr.fit(X_train, y_train)"
   ]
  },
  {
   "cell_type": "code",
   "execution_count": 97,
   "metadata": {},
   "outputs": [],
   "source": [
    " ##prediction done!\n",
    "y_predict=lr.predict(X_val)"
   ]
  },
  {
   "cell_type": "code",
   "execution_count": 98,
   "metadata": {},
   "outputs": [],
   "source": [
    "from sklearn.metrics import r2_score"
   ]
  },
  {
   "cell_type": "code",
   "execution_count": 99,
   "metadata": {},
   "outputs": [
    {
     "data": {
      "text/plain": [
       "-0.30185991405176305"
      ]
     },
     "execution_count": 99,
     "metadata": {},
     "output_type": "execute_result"
    }
   ],
   "source": [
    "r2_score(y_val,y_predict)"
   ]
  },
  {
   "cell_type": "code",
   "execution_count": 100,
   "metadata": {},
   "outputs": [
    {
     "data": {
      "text/plain": [
       "125.8483174694369"
      ]
     },
     "execution_count": 100,
     "metadata": {},
     "output_type": "execute_result"
    }
   ],
   "source": [
    " ##using \"mean_squared_error\" for finding the error in prediction\n",
    "from sklearn.metrics import mean_squared_error\n",
    "mse=mean_squared_error(y_val, y_predict, squared=False)\n",
    "mse"
   ]
  },
  {
   "cell_type": "markdown",
   "metadata": {},
   "source": [
    "# Final model building"
   ]
  },
  {
   "cell_type": "code",
   "execution_count": 101,
   "metadata": {},
   "outputs": [],
   "source": [
    " ##importing \"DecisionTreeRegressor\" from \"sklearn\" for building another model\n",
    "from sklearn.tree import DecisionTreeRegressor\n",
    "reg = DecisionTreeRegressor(random_state=0 , max_depth=5)"
   ]
  },
  {
   "cell_type": "markdown",
   "metadata": {},
   "source": [
    "Building predictive model"
   ]
  },
  {
   "cell_type": "code",
   "execution_count": 102,
   "metadata": {},
   "outputs": [
    {
     "data": {
      "text/plain": [
       "DecisionTreeRegressor(max_depth=5, random_state=0)"
      ]
     },
     "execution_count": 102,
     "metadata": {},
     "output_type": "execute_result"
    }
   ],
   "source": [
    " ##train the new model\n",
    "reg.fit(X_train, y_train)"
   ]
  },
  {
   "cell_type": "code",
   "execution_count": 103,
   "metadata": {},
   "outputs": [],
   "source": [
    " ##pridicting with it\n",
    "predict2= reg.predict(X_val)"
   ]
  },
  {
   "cell_type": "code",
   "execution_count": 104,
   "metadata": {},
   "outputs": [
    {
     "data": {
      "text/plain": [
       "0.053191402837377"
      ]
     },
     "execution_count": 104,
     "metadata": {},
     "output_type": "execute_result"
    }
   ],
   "source": [
    "r2_score(y_val,predict2)"
   ]
  },
  {
   "cell_type": "code",
   "execution_count": 105,
   "metadata": {},
   "outputs": [
    {
     "data": {
      "text/plain": [
       "107.32388435385366"
      ]
     },
     "execution_count": 105,
     "metadata": {},
     "output_type": "execute_result"
    }
   ],
   "source": [
    "  ##getting the \"mean_squared_error\" value\n",
    "p_mse=mean_squared_error(y_val, predict2, squared=False)\n",
    "p_mse"
   ]
  },
  {
   "cell_type": "code",
   "execution_count": 106,
   "metadata": {},
   "outputs": [],
   "source": [
    "##\"Root_mean_squared_error\" value\n",
    "p_rmse=np.sqrt(p_mse)"
   ]
  },
  {
   "cell_type": "code",
   "execution_count": 107,
   "metadata": {},
   "outputs": [
    {
     "data": {
      "text/plain": [
       "10.359724144679417"
      ]
     },
     "execution_count": 107,
     "metadata": {},
     "output_type": "execute_result"
    }
   ],
   "source": [
    "p_rmse"
   ]
  },
  {
   "cell_type": "code",
   "execution_count": 108,
   "metadata": {},
   "outputs": [],
   "source": [
    "  ##tree base modeling for the final test data set\n",
    "final_test_predicts=reg.predict(X_test)"
   ]
  },
  {
   "cell_type": "code",
   "execution_count": 109,
   "metadata": {},
   "outputs": [],
   "source": [
    " ##creating delay values by final prediction value\n",
    "X_test['delay']= final_test_predicts"
   ]
  },
  {
   "cell_type": "code",
   "execution_count": 110,
   "metadata": {},
   "outputs": [],
   "source": [
    "X_test[\"delay\"]=X_test['delay'].astype(int)"
   ]
  },
  {
   "cell_type": "code",
   "execution_count": 111,
   "metadata": {},
   "outputs": [],
   "source": [
    "X_test['due_in_date']=test[\"due_in_date\"]"
   ]
  },
  {
   "cell_type": "code",
   "execution_count": 112,
   "metadata": {},
   "outputs": [],
   "source": [
    "X_test[\"due_in_date\"] = pd.to_datetime(X_test[\"due_in_date\"], format='%Y%m%d')"
   ]
  },
  {
   "cell_type": "code",
   "execution_count": 113,
   "metadata": {},
   "outputs": [],
   "source": [
    "  ##adding 'due_in_date' and 'delay' for predicting 'clear_date'\n",
    "X_test['predicted_clear_dates']=X_test[\"due_in_date\"]+pd.to_timedelta(X_test['delay'],unit='d')"
   ]
  },
  {
   "cell_type": "code",
   "execution_count": 114,
   "metadata": {},
   "outputs": [],
   "source": [
    "X_test['predicted_clear_dates'] = pd.to_datetime(X_test[\"predicted_clear_dates\"], format='%Y%m%d')"
   ]
  },
  {
   "cell_type": "code",
   "execution_count": 115,
   "metadata": {},
   "outputs": [
    {
     "data": {
      "text/html": [
       "<div>\n",
       "<style scoped>\n",
       "    .dataframe tbody tr th:only-of-type {\n",
       "        vertical-align: middle;\n",
       "    }\n",
       "\n",
       "    .dataframe tbody tr th {\n",
       "        vertical-align: top;\n",
       "    }\n",
       "\n",
       "    .dataframe thead th {\n",
       "        text-align: right;\n",
       "    }\n",
       "</style>\n",
       "<table border=\"1\" class=\"dataframe\">\n",
       "  <thead>\n",
       "    <tr style=\"text-align: right;\">\n",
       "      <th></th>\n",
       "      <th>total_open_amount</th>\n",
       "      <th>invoice_enc</th>\n",
       "      <th>business_enc</th>\n",
       "      <th>buisness_year_enc</th>\n",
       "      <th>posting_date_enc</th>\n",
       "      <th>posting_month_enc</th>\n",
       "      <th>posting_date_year</th>\n",
       "      <th>baseline_quater</th>\n",
       "      <th>delay</th>\n",
       "      <th>due_in_date</th>\n",
       "      <th>predicted_clear_dates</th>\n",
       "    </tr>\n",
       "  </thead>\n",
       "  <tbody>\n",
       "    <tr>\n",
       "      <th>7914</th>\n",
       "      <td>152137.92</td>\n",
       "      <td>1</td>\n",
       "      <td>1</td>\n",
       "      <td>1</td>\n",
       "      <td>3</td>\n",
       "      <td>1</td>\n",
       "      <td>2020</td>\n",
       "      <td>1</td>\n",
       "      <td>55</td>\n",
       "      <td>2020-03-16</td>\n",
       "      <td>2020-05-10</td>\n",
       "    </tr>\n",
       "    <tr>\n",
       "      <th>29976</th>\n",
       "      <td>20157.37</td>\n",
       "      <td>1</td>\n",
       "      <td>1</td>\n",
       "      <td>1</td>\n",
       "      <td>3</td>\n",
       "      <td>1</td>\n",
       "      <td>2020</td>\n",
       "      <td>1</td>\n",
       "      <td>55</td>\n",
       "      <td>2020-03-16</td>\n",
       "      <td>2020-05-10</td>\n",
       "    </tr>\n",
       "    <tr>\n",
       "      <th>42539</th>\n",
       "      <td>3403.80</td>\n",
       "      <td>1</td>\n",
       "      <td>1</td>\n",
       "      <td>1</td>\n",
       "      <td>3</td>\n",
       "      <td>1</td>\n",
       "      <td>2020</td>\n",
       "      <td>1</td>\n",
       "      <td>55</td>\n",
       "      <td>2020-03-16</td>\n",
       "      <td>2020-05-10</td>\n",
       "    </tr>\n",
       "    <tr>\n",
       "      <th>27126</th>\n",
       "      <td>18356.85</td>\n",
       "      <td>1</td>\n",
       "      <td>1</td>\n",
       "      <td>1</td>\n",
       "      <td>3</td>\n",
       "      <td>1</td>\n",
       "      <td>2020</td>\n",
       "      <td>1</td>\n",
       "      <td>55</td>\n",
       "      <td>2020-03-16</td>\n",
       "      <td>2020-05-10</td>\n",
       "    </tr>\n",
       "    <tr>\n",
       "      <th>20390</th>\n",
       "      <td>14496.50</td>\n",
       "      <td>1</td>\n",
       "      <td>1</td>\n",
       "      <td>1</td>\n",
       "      <td>3</td>\n",
       "      <td>1</td>\n",
       "      <td>2020</td>\n",
       "      <td>1</td>\n",
       "      <td>55</td>\n",
       "      <td>2020-03-16</td>\n",
       "      <td>2020-05-10</td>\n",
       "    </tr>\n",
       "  </tbody>\n",
       "</table>\n",
       "</div>"
      ],
      "text/plain": [
       "       total_open_amount  invoice_enc  business_enc  buisness_year_enc  \\\n",
       "7914           152137.92            1             1                  1   \n",
       "29976           20157.37            1             1                  1   \n",
       "42539            3403.80            1             1                  1   \n",
       "27126           18356.85            1             1                  1   \n",
       "20390           14496.50            1             1                  1   \n",
       "\n",
       "       posting_date_enc  posting_month_enc  posting_date_year  \\\n",
       "7914                  3                  1               2020   \n",
       "29976                 3                  1               2020   \n",
       "42539                 3                  1               2020   \n",
       "27126                 3                  1               2020   \n",
       "20390                 3                  1               2020   \n",
       "\n",
       "       baseline_quater  delay due_in_date predicted_clear_dates  \n",
       "7914                 1     55  2020-03-16            2020-05-10  \n",
       "29976                1     55  2020-03-16            2020-05-10  \n",
       "42539                1     55  2020-03-16            2020-05-10  \n",
       "27126                1     55  2020-03-16            2020-05-10  \n",
       "20390                1     55  2020-03-16            2020-05-10  "
      ]
     },
     "execution_count": 115,
     "metadata": {},
     "output_type": "execute_result"
    }
   ],
   "source": [
    "X_test.head()"
   ]
  },
  {
   "cell_type": "code",
   "execution_count": 116,
   "metadata": {},
   "outputs": [],
   "source": [
    "  ##Building function for creating bucket values\n",
    "def Mapping(x):\n",
    "    temp = []\n",
    "    for i in list(x):\n",
    "        if i < 0:\n",
    "            temp.append(\"No delay payment \")\n",
    "        elif i <= 15:\n",
    "            temp.append(\"Minimum delay\")\n",
    "        elif i <= 30:\n",
    "            temp.append(\"Medium delay\")\n",
    "        else :\n",
    "            temp.append(\"Maximum delay\")    \n",
    "    return temp"
   ]
  },
  {
   "cell_type": "markdown",
   "metadata": {},
   "source": [
    "# Model data showing with bucket values"
   ]
  },
  {
   "cell_type": "code",
   "execution_count": 117,
   "metadata": {},
   "outputs": [
    {
     "data": {
      "text/html": [
       "<div>\n",
       "<style scoped>\n",
       "    .dataframe tbody tr th:only-of-type {\n",
       "        vertical-align: middle;\n",
       "    }\n",
       "\n",
       "    .dataframe tbody tr th {\n",
       "        vertical-align: top;\n",
       "    }\n",
       "\n",
       "    .dataframe thead th {\n",
       "        text-align: right;\n",
       "    }\n",
       "</style>\n",
       "<table border=\"1\" class=\"dataframe\">\n",
       "  <thead>\n",
       "    <tr style=\"text-align: right;\">\n",
       "      <th></th>\n",
       "      <th>Predictions</th>\n",
       "      <th>Bucket_list</th>\n",
       "      <th>due_in_date</th>\n",
       "      <th>predicted_payment_dates</th>\n",
       "      <th>total_open_amount</th>\n",
       "    </tr>\n",
       "  </thead>\n",
       "  <tbody>\n",
       "    <tr>\n",
       "      <th>7914</th>\n",
       "      <td>55</td>\n",
       "      <td>Maximum delay</td>\n",
       "      <td>2020-03-16</td>\n",
       "      <td>2020-05-10</td>\n",
       "      <td>152137.92</td>\n",
       "    </tr>\n",
       "    <tr>\n",
       "      <th>29976</th>\n",
       "      <td>55</td>\n",
       "      <td>Maximum delay</td>\n",
       "      <td>2020-03-16</td>\n",
       "      <td>2020-05-10</td>\n",
       "      <td>20157.37</td>\n",
       "    </tr>\n",
       "    <tr>\n",
       "      <th>42539</th>\n",
       "      <td>55</td>\n",
       "      <td>Maximum delay</td>\n",
       "      <td>2020-03-16</td>\n",
       "      <td>2020-05-10</td>\n",
       "      <td>3403.80</td>\n",
       "    </tr>\n",
       "    <tr>\n",
       "      <th>27126</th>\n",
       "      <td>55</td>\n",
       "      <td>Maximum delay</td>\n",
       "      <td>2020-03-16</td>\n",
       "      <td>2020-05-10</td>\n",
       "      <td>18356.85</td>\n",
       "    </tr>\n",
       "    <tr>\n",
       "      <th>20390</th>\n",
       "      <td>55</td>\n",
       "      <td>Maximum delay</td>\n",
       "      <td>2020-03-16</td>\n",
       "      <td>2020-05-10</td>\n",
       "      <td>14496.50</td>\n",
       "    </tr>\n",
       "  </tbody>\n",
       "</table>\n",
       "</div>"
      ],
      "text/plain": [
       "       Predictions    Bucket_list due_in_date predicted_payment_dates  \\\n",
       "7914            55  Maximum delay  2020-03-16              2020-05-10   \n",
       "29976           55  Maximum delay  2020-03-16              2020-05-10   \n",
       "42539           55  Maximum delay  2020-03-16              2020-05-10   \n",
       "27126           55  Maximum delay  2020-03-16              2020-05-10   \n",
       "20390           55  Maximum delay  2020-03-16              2020-05-10   \n",
       "\n",
       "       total_open_amount  \n",
       "7914           152137.92  \n",
       "29976           20157.37  \n",
       "42539            3403.80  \n",
       "27126           18356.85  \n",
       "20390           14496.50  "
      ]
     },
     "execution_count": 117,
     "metadata": {},
     "output_type": "execute_result"
    }
   ],
   "source": [
    "bucket_zone = Mapping(X_test[\"delay\"])\n",
    "bucket = pd.DataFrame()\n",
    "bucket['Predictions'] = X_test[\"delay\"]\n",
    "bucket['Bucket_list'] = bucket_zone\n",
    "bucket['due_in_date']=X_test['due_in_date']\n",
    "bucket['predicted_payment_dates']=X_test['predicted_clear_dates']\n",
    "bucket['total_open_amount']=X_test['total_open_amount']\n",
    "\n",
    "bucket.head()"
   ]
  },
  {
   "cell_type": "code",
   "execution_count": 118,
   "metadata": {},
   "outputs": [
    {
     "data": {
      "text/html": [
       "<div>\n",
       "<style scoped>\n",
       "    .dataframe tbody tr th:only-of-type {\n",
       "        vertical-align: middle;\n",
       "    }\n",
       "\n",
       "    .dataframe tbody tr th {\n",
       "        vertical-align: top;\n",
       "    }\n",
       "\n",
       "    .dataframe thead th {\n",
       "        text-align: right;\n",
       "    }\n",
       "</style>\n",
       "<table border=\"1\" class=\"dataframe\">\n",
       "  <thead>\n",
       "    <tr style=\"text-align: right;\">\n",
       "      <th></th>\n",
       "      <th>Predictions</th>\n",
       "      <th>Bucket_list</th>\n",
       "      <th>due_in_date</th>\n",
       "      <th>predicted_payment_dates</th>\n",
       "      <th>total_open_amount</th>\n",
       "    </tr>\n",
       "  </thead>\n",
       "  <tbody>\n",
       "    <tr>\n",
       "      <th>7914</th>\n",
       "      <td>55</td>\n",
       "      <td>Maximum delay</td>\n",
       "      <td>2020-03-16</td>\n",
       "      <td>2020-05-10</td>\n",
       "      <td>152137.92</td>\n",
       "    </tr>\n",
       "    <tr>\n",
       "      <th>29976</th>\n",
       "      <td>55</td>\n",
       "      <td>Maximum delay</td>\n",
       "      <td>2020-03-16</td>\n",
       "      <td>2020-05-10</td>\n",
       "      <td>20157.37</td>\n",
       "    </tr>\n",
       "    <tr>\n",
       "      <th>42539</th>\n",
       "      <td>55</td>\n",
       "      <td>Maximum delay</td>\n",
       "      <td>2020-03-16</td>\n",
       "      <td>2020-05-10</td>\n",
       "      <td>3403.80</td>\n",
       "    </tr>\n",
       "    <tr>\n",
       "      <th>27126</th>\n",
       "      <td>55</td>\n",
       "      <td>Maximum delay</td>\n",
       "      <td>2020-03-16</td>\n",
       "      <td>2020-05-10</td>\n",
       "      <td>18356.85</td>\n",
       "    </tr>\n",
       "    <tr>\n",
       "      <th>20390</th>\n",
       "      <td>55</td>\n",
       "      <td>Maximum delay</td>\n",
       "      <td>2020-03-16</td>\n",
       "      <td>2020-05-10</td>\n",
       "      <td>14496.50</td>\n",
       "    </tr>\n",
       "    <tr>\n",
       "      <th>...</th>\n",
       "      <td>...</td>\n",
       "      <td>...</td>\n",
       "      <td>...</td>\n",
       "      <td>...</td>\n",
       "      <td>...</td>\n",
       "    </tr>\n",
       "    <tr>\n",
       "      <th>13906</th>\n",
       "      <td>9</td>\n",
       "      <td>Minimum delay</td>\n",
       "      <td>2020-05-16</td>\n",
       "      <td>2020-05-25</td>\n",
       "      <td>24129.22</td>\n",
       "    </tr>\n",
       "    <tr>\n",
       "      <th>8620</th>\n",
       "      <td>9</td>\n",
       "      <td>Minimum delay</td>\n",
       "      <td>2020-05-16</td>\n",
       "      <td>2020-05-25</td>\n",
       "      <td>20384.39</td>\n",
       "    </tr>\n",
       "    <tr>\n",
       "      <th>17357</th>\n",
       "      <td>9</td>\n",
       "      <td>Minimum delay</td>\n",
       "      <td>2020-05-16</td>\n",
       "      <td>2020-05-25</td>\n",
       "      <td>11214.24</td>\n",
       "    </tr>\n",
       "    <tr>\n",
       "      <th>8407</th>\n",
       "      <td>9</td>\n",
       "      <td>Minimum delay</td>\n",
       "      <td>2020-05-11</td>\n",
       "      <td>2020-05-20</td>\n",
       "      <td>158949.00</td>\n",
       "    </tr>\n",
       "    <tr>\n",
       "      <th>26160</th>\n",
       "      <td>55</td>\n",
       "      <td>Maximum delay</td>\n",
       "      <td>2020-03-17</td>\n",
       "      <td>2020-05-11</td>\n",
       "      <td>56622.94</td>\n",
       "    </tr>\n",
       "  </tbody>\n",
       "</table>\n",
       "<p>360 rows × 5 columns</p>\n",
       "</div>"
      ],
      "text/plain": [
       "       Predictions    Bucket_list due_in_date predicted_payment_dates  \\\n",
       "7914            55  Maximum delay  2020-03-16              2020-05-10   \n",
       "29976           55  Maximum delay  2020-03-16              2020-05-10   \n",
       "42539           55  Maximum delay  2020-03-16              2020-05-10   \n",
       "27126           55  Maximum delay  2020-03-16              2020-05-10   \n",
       "20390           55  Maximum delay  2020-03-16              2020-05-10   \n",
       "...            ...            ...         ...                     ...   \n",
       "13906            9  Minimum delay  2020-05-16              2020-05-25   \n",
       "8620             9  Minimum delay  2020-05-16              2020-05-25   \n",
       "17357            9  Minimum delay  2020-05-16              2020-05-25   \n",
       "8407             9  Minimum delay  2020-05-11              2020-05-20   \n",
       "26160           55  Maximum delay  2020-03-17              2020-05-11   \n",
       "\n",
       "       total_open_amount  \n",
       "7914           152137.92  \n",
       "29976           20157.37  \n",
       "42539            3403.80  \n",
       "27126           18356.85  \n",
       "20390           14496.50  \n",
       "...                  ...  \n",
       "13906           24129.22  \n",
       "8620            20384.39  \n",
       "17357           11214.24  \n",
       "8407           158949.00  \n",
       "26160           56622.94  \n",
       "\n",
       "[360 rows x 5 columns]"
      ]
     },
     "execution_count": 118,
     "metadata": {},
     "output_type": "execute_result"
    }
   ],
   "source": [
    "bucket.head(360)"
   ]
  },
  {
   "cell_type": "code",
   "execution_count": 119,
   "metadata": {},
   "outputs": [],
   "source": [
    "webapp=pd.DataFrame()"
   ]
  },
  {
   "cell_type": "code",
   "execution_count": 120,
   "metadata": {},
   "outputs": [
    {
     "data": {
      "text/html": [
       "<div>\n",
       "<style scoped>\n",
       "    .dataframe tbody tr th:only-of-type {\n",
       "        vertical-align: middle;\n",
       "    }\n",
       "\n",
       "    .dataframe tbody tr th {\n",
       "        vertical-align: top;\n",
       "    }\n",
       "\n",
       "    .dataframe thead th {\n",
       "        text-align: right;\n",
       "    }\n",
       "</style>\n",
       "<table border=\"1\" class=\"dataframe\">\n",
       "  <thead>\n",
       "    <tr style=\"text-align: right;\">\n",
       "      <th></th>\n",
       "      <th>business_code</th>\n",
       "      <th>cust_number</th>\n",
       "      <th>name_customer</th>\n",
       "      <th>clear_date</th>\n",
       "      <th>buisness_year</th>\n",
       "      <th>doc_id</th>\n",
       "      <th>posting_date</th>\n",
       "      <th>document_create_date</th>\n",
       "      <th>document_create_date.1</th>\n",
       "      <th>due_in_date</th>\n",
       "      <th>invoice_currency</th>\n",
       "      <th>document type</th>\n",
       "      <th>posting_id</th>\n",
       "      <th>area_business</th>\n",
       "      <th>total_open_amount</th>\n",
       "      <th>baseline_create_date</th>\n",
       "      <th>cust_payment_terms</th>\n",
       "      <th>invoice_id</th>\n",
       "      <th>isOpen</th>\n",
       "    </tr>\n",
       "  </thead>\n",
       "  <tbody>\n",
       "    <tr>\n",
       "      <th>1</th>\n",
       "      <td>U001</td>\n",
       "      <td>200726979</td>\n",
       "      <td>BJ'S  corporation</td>\n",
       "      <td>NaN</td>\n",
       "      <td>2020</td>\n",
       "      <td>1930813533</td>\n",
       "      <td>22-04-20</td>\n",
       "      <td>20200422</td>\n",
       "      <td>20200422</td>\n",
       "      <td>20200507</td>\n",
       "      <td>USD</td>\n",
       "      <td>RV</td>\n",
       "      <td>1</td>\n",
       "      <td>NaN</td>\n",
       "      <td>132.72</td>\n",
       "      <td>20200422</td>\n",
       "      <td>NAA8</td>\n",
       "      <td>1.930814e+09</td>\n",
       "      <td>1</td>\n",
       "    </tr>\n",
       "    <tr>\n",
       "      <th>4</th>\n",
       "      <td>U001</td>\n",
       "      <td>200739534</td>\n",
       "      <td>OK systems</td>\n",
       "      <td>NaN</td>\n",
       "      <td>2020</td>\n",
       "      <td>1930782511</td>\n",
       "      <td>13-04-20</td>\n",
       "      <td>20200413</td>\n",
       "      <td>20200413</td>\n",
       "      <td>20200428</td>\n",
       "      <td>USD</td>\n",
       "      <td>RV</td>\n",
       "      <td>1</td>\n",
       "      <td>NaN</td>\n",
       "      <td>25051.77</td>\n",
       "      <td>20200413</td>\n",
       "      <td>NAA8</td>\n",
       "      <td>1.930783e+09</td>\n",
       "      <td>1</td>\n",
       "    </tr>\n",
       "    <tr>\n",
       "      <th>7</th>\n",
       "      <td>U001</td>\n",
       "      <td>200769623</td>\n",
       "      <td>WAL-MAR co</td>\n",
       "      <td>NaN</td>\n",
       "      <td>2020</td>\n",
       "      <td>1930729711</td>\n",
       "      <td>02-04-20</td>\n",
       "      <td>20200401</td>\n",
       "      <td>20200402</td>\n",
       "      <td>20200417</td>\n",
       "      <td>USD</td>\n",
       "      <td>RV</td>\n",
       "      <td>1</td>\n",
       "      <td>NaN</td>\n",
       "      <td>19141.79</td>\n",
       "      <td>20200402</td>\n",
       "      <td>NAH4</td>\n",
       "      <td>1.930730e+09</td>\n",
       "      <td>1</td>\n",
       "    </tr>\n",
       "    <tr>\n",
       "      <th>10</th>\n",
       "      <td>U001</td>\n",
       "      <td>200744019</td>\n",
       "      <td>TARG associates</td>\n",
       "      <td>NaN</td>\n",
       "      <td>2020</td>\n",
       "      <td>1930764060</td>\n",
       "      <td>09-04-20</td>\n",
       "      <td>20200408</td>\n",
       "      <td>20200409</td>\n",
       "      <td>20200424</td>\n",
       "      <td>USD</td>\n",
       "      <td>RV</td>\n",
       "      <td>1</td>\n",
       "      <td>NaN</td>\n",
       "      <td>2116.88</td>\n",
       "      <td>20200409</td>\n",
       "      <td>NAA8</td>\n",
       "      <td>1.930764e+09</td>\n",
       "      <td>1</td>\n",
       "    </tr>\n",
       "    <tr>\n",
       "      <th>29</th>\n",
       "      <td>U001</td>\n",
       "      <td>200782772</td>\n",
       "      <td>ASSOC G co</td>\n",
       "      <td>NaN</td>\n",
       "      <td>2020</td>\n",
       "      <td>1930828600</td>\n",
       "      <td>26-04-20</td>\n",
       "      <td>20200426</td>\n",
       "      <td>20200426</td>\n",
       "      <td>20200511</td>\n",
       "      <td>USD</td>\n",
       "      <td>RV</td>\n",
       "      <td>1</td>\n",
       "      <td>NaN</td>\n",
       "      <td>2094.41</td>\n",
       "      <td>20200426</td>\n",
       "      <td>NAA8</td>\n",
       "      <td>1.930829e+09</td>\n",
       "      <td>1</td>\n",
       "    </tr>\n",
       "  </tbody>\n",
       "</table>\n",
       "</div>"
      ],
      "text/plain": [
       "   business_code cust_number      name_customer clear_date  buisness_year  \\\n",
       "1           U001   200726979  BJ'S  corporation        NaN           2020   \n",
       "4           U001   200739534         OK systems        NaN           2020   \n",
       "7           U001   200769623         WAL-MAR co        NaN           2020   \n",
       "10          U001   200744019    TARG associates        NaN           2020   \n",
       "29          U001   200782772         ASSOC G co        NaN           2020   \n",
       "\n",
       "        doc_id posting_date  document_create_date  document_create_date.1  \\\n",
       "1   1930813533     22-04-20              20200422                20200422   \n",
       "4   1930782511     13-04-20              20200413                20200413   \n",
       "7   1930729711     02-04-20              20200401                20200402   \n",
       "10  1930764060     09-04-20              20200408                20200409   \n",
       "29  1930828600     26-04-20              20200426                20200426   \n",
       "\n",
       "    due_in_date invoice_currency document type  posting_id  area_business  \\\n",
       "1      20200507              USD            RV           1            NaN   \n",
       "4      20200428              USD            RV           1            NaN   \n",
       "7      20200417              USD            RV           1            NaN   \n",
       "10     20200424              USD            RV           1            NaN   \n",
       "29     20200511              USD            RV           1            NaN   \n",
       "\n",
       "    total_open_amount  baseline_create_date cust_payment_terms    invoice_id  \\\n",
       "1              132.72              20200422               NAA8  1.930814e+09   \n",
       "4            25051.77              20200413               NAA8  1.930783e+09   \n",
       "7            19141.79              20200402               NAH4  1.930730e+09   \n",
       "10            2116.88              20200409               NAA8  1.930764e+09   \n",
       "29            2094.41              20200426               NAA8  1.930829e+09   \n",
       "\n",
       "    isOpen  \n",
       "1        1  \n",
       "4        1  \n",
       "7        1  \n",
       "10       1  \n",
       "29       1  "
      ]
     },
     "execution_count": 120,
     "metadata": {},
     "output_type": "execute_result"
    }
   ],
   "source": [
    "webframe.head()"
   ]
  },
  {
   "cell_type": "code",
   "execution_count": 121,
   "metadata": {},
   "outputs": [],
   "source": [
    "webapp['Customer Name']= webframe['name_customer']"
   ]
  },
  {
   "cell_type": "code",
   "execution_count": 122,
   "metadata": {},
   "outputs": [],
   "source": [
    "webapp['Customer #']= webframe['cust_number']"
   ]
  },
  {
   "cell_type": "code",
   "execution_count": 123,
   "metadata": {},
   "outputs": [],
   "source": [
    "webapp['Invoice #']= webframe['invoice_id']"
   ]
  },
  {
   "cell_type": "code",
   "execution_count": 124,
   "metadata": {},
   "outputs": [],
   "source": [
    "webapp['Invoice Amount']= webframe['total_open_amount']"
   ]
  },
  {
   "cell_type": "code",
   "execution_count": 125,
   "metadata": {},
   "outputs": [],
   "source": [
    "webapp['Due Date']= bucket['due_in_date']"
   ]
  },
  {
   "cell_type": "code",
   "execution_count": 126,
   "metadata": {},
   "outputs": [],
   "source": [
    "webapp['Predicted payment Date']= bucket['predicted_payment_dates']"
   ]
  },
  {
   "cell_type": "code",
   "execution_count": 127,
   "metadata": {},
   "outputs": [],
   "source": [
    "webapp['Notes']=bucket['Bucket_list']"
   ]
  },
  {
   "cell_type": "code",
   "execution_count": 128,
   "metadata": {},
   "outputs": [
    {
     "data": {
      "text/html": [
       "<div>\n",
       "<style scoped>\n",
       "    .dataframe tbody tr th:only-of-type {\n",
       "        vertical-align: middle;\n",
       "    }\n",
       "\n",
       "    .dataframe tbody tr th {\n",
       "        vertical-align: top;\n",
       "    }\n",
       "\n",
       "    .dataframe thead th {\n",
       "        text-align: right;\n",
       "    }\n",
       "</style>\n",
       "<table border=\"1\" class=\"dataframe\">\n",
       "  <thead>\n",
       "    <tr style=\"text-align: right;\">\n",
       "      <th></th>\n",
       "      <th>Customer Name</th>\n",
       "      <th>Customer #</th>\n",
       "      <th>Invoice #</th>\n",
       "      <th>Invoice Amount</th>\n",
       "      <th>Due Date</th>\n",
       "      <th>Predicted payment Date</th>\n",
       "      <th>Notes</th>\n",
       "    </tr>\n",
       "  </thead>\n",
       "  <tbody>\n",
       "    <tr>\n",
       "      <th>1</th>\n",
       "      <td>BJ'S  corporation</td>\n",
       "      <td>200726979</td>\n",
       "      <td>1.930814e+09</td>\n",
       "      <td>132.72</td>\n",
       "      <td>2020-05-07</td>\n",
       "      <td>2020-04-17</td>\n",
       "      <td>No delay payment</td>\n",
       "    </tr>\n",
       "    <tr>\n",
       "      <th>4</th>\n",
       "      <td>OK systems</td>\n",
       "      <td>200739534</td>\n",
       "      <td>1.930783e+09</td>\n",
       "      <td>25051.77</td>\n",
       "      <td>2020-04-28</td>\n",
       "      <td>2020-04-25</td>\n",
       "      <td>No delay payment</td>\n",
       "    </tr>\n",
       "    <tr>\n",
       "      <th>7</th>\n",
       "      <td>WAL-MAR co</td>\n",
       "      <td>200769623</td>\n",
       "      <td>1.930730e+09</td>\n",
       "      <td>19141.79</td>\n",
       "      <td>2020-04-17</td>\n",
       "      <td>2020-04-26</td>\n",
       "      <td>Minimum delay</td>\n",
       "    </tr>\n",
       "    <tr>\n",
       "      <th>10</th>\n",
       "      <td>TARG associates</td>\n",
       "      <td>200744019</td>\n",
       "      <td>1.930764e+09</td>\n",
       "      <td>2116.88</td>\n",
       "      <td>2020-04-24</td>\n",
       "      <td>2020-04-24</td>\n",
       "      <td>Minimum delay</td>\n",
       "    </tr>\n",
       "    <tr>\n",
       "      <th>29</th>\n",
       "      <td>ASSOC G co</td>\n",
       "      <td>200782772</td>\n",
       "      <td>1.930829e+09</td>\n",
       "      <td>2094.41</td>\n",
       "      <td>2020-05-11</td>\n",
       "      <td>2020-04-21</td>\n",
       "      <td>No delay payment</td>\n",
       "    </tr>\n",
       "  </tbody>\n",
       "</table>\n",
       "</div>"
      ],
      "text/plain": [
       "        Customer Name Customer #     Invoice #  Invoice Amount   Due Date  \\\n",
       "1   BJ'S  corporation  200726979  1.930814e+09          132.72 2020-05-07   \n",
       "4          OK systems  200739534  1.930783e+09        25051.77 2020-04-28   \n",
       "7          WAL-MAR co  200769623  1.930730e+09        19141.79 2020-04-17   \n",
       "10    TARG associates  200744019  1.930764e+09         2116.88 2020-04-24   \n",
       "29         ASSOC G co  200782772  1.930829e+09         2094.41 2020-05-11   \n",
       "\n",
       "   Predicted payment Date              Notes  \n",
       "1              2020-04-17  No delay payment   \n",
       "4              2020-04-25  No delay payment   \n",
       "7              2020-04-26      Minimum delay  \n",
       "10             2020-04-24      Minimum delay  \n",
       "29             2020-04-21  No delay payment   "
      ]
     },
     "execution_count": 128,
     "metadata": {},
     "output_type": "execute_result"
    }
   ],
   "source": [
    "webapp.head()"
   ]
  },
  {
   "cell_type": "code",
   "execution_count": null,
   "metadata": {},
   "outputs": [],
   "source": []
  },
  {
   "cell_type": "code",
   "execution_count": null,
   "metadata": {},
   "outputs": [],
   "source": []
  },
  {
   "cell_type": "code",
   "execution_count": null,
   "metadata": {},
   "outputs": [],
   "source": []
  }
 ],
 "metadata": {
  "kernelspec": {
   "display_name": "Python 3",
   "language": "python",
   "name": "python3"
  },
  "language_info": {
   "codemirror_mode": {
    "name": "ipython",
    "version": 3
   },
   "file_extension": ".py",
   "mimetype": "text/x-python",
   "name": "python",
   "nbconvert_exporter": "python",
   "pygments_lexer": "ipython3",
   "version": "3.8.5"
  }
 },
 "nbformat": 4,
 "nbformat_minor": 4
}
